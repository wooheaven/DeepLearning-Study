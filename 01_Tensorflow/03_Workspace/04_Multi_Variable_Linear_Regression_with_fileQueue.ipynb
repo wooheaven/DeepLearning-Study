{
 "cells": [
  {
   "cell_type": "code",
   "execution_count": 1,
   "metadata": {
    "collapsed": true
   },
   "outputs": [],
   "source": [
    "import tensorflow as tf"
   ]
  },
  {
   "cell_type": "code",
   "execution_count": 2,
   "metadata": {
    "collapsed": true
   },
   "outputs": [],
   "source": [
    "filename_queue = tf.train.string_input_producer(['data-01-test-score.csv'], shuffle=False, name='filename_queue')"
   ]
  },
  {
   "cell_type": "code",
   "execution_count": 3,
   "metadata": {
    "collapsed": true
   },
   "outputs": [],
   "source": [
    "reader = tf.TextLineReader()\n",
    "key, value = reader.read(filename_queue)"
   ]
  },
  {
   "cell_type": "code",
   "execution_count": 4,
   "metadata": {
    "collapsed": true
   },
   "outputs": [],
   "source": [
    "# Set default values And Specifies the type of the decoded result\n",
    "record_defaults = [[0.], [0.], [0.], [0.]]\n",
    "xy = tf.decode_csv(value, record_defaults=record_defaults)"
   ]
  },
  {
   "cell_type": "code",
   "execution_count": 5,
   "metadata": {
    "collapsed": true
   },
   "outputs": [],
   "source": [
    "# collect batches of csv \n",
    "train_x_batch, train_y_batch = tf.train.batch([xy[0:-1], xy[-1:]], batch_size=10)"
   ]
  },
  {
   "cell_type": "code",
   "execution_count": 6,
   "metadata": {
    "collapsed": true
   },
   "outputs": [],
   "source": [
    "# placeholders for a tensor that will be alwats fed\n",
    "X = tf.placeholder(tf.float32, shape=[None, 3])\n",
    "Y = tf.placeholder(tf.float32, shape=[None, 1])"
   ]
  },
  {
   "cell_type": "code",
   "execution_count": 7,
   "metadata": {
    "collapsed": true
   },
   "outputs": [],
   "source": [
    "W = tf.Variable(tf.random_normal([3,1]), name='weight')\n",
    "b = tf.Variable(tf.random_normal([1]), name='bias')"
   ]
  },
  {
   "cell_type": "code",
   "execution_count": 8,
   "metadata": {
    "collapsed": true
   },
   "outputs": [],
   "source": [
    "# Hypothesis\n",
    "hypothesis = tf.matmul(X, W) + b # 행렬곱에서 행과 열의 갯수는 (None,3) * (3,1) = (None,1) 이다."
   ]
  },
  {
   "cell_type": "code",
   "execution_count": 9,
   "metadata": {
    "collapsed": true
   },
   "outputs": [],
   "source": [
    "# Simplified cost/loss function\n",
    "cost = tf.reduce_mean(tf.square(hypothesis - Y))"
   ]
  },
  {
   "cell_type": "code",
   "execution_count": 10,
   "metadata": {
    "collapsed": true
   },
   "outputs": [],
   "source": [
    "# Minimize\n",
    "optimizer = tf.train.GradientDescentOptimizer(learning_rate=1e-5)\n",
    "train = optimizer.minimize(cost)"
   ]
  },
  {
   "cell_type": "code",
   "execution_count": 11,
   "metadata": {
    "collapsed": true
   },
   "outputs": [],
   "source": [
    "# Launch the graph in a session\n",
    "sess = tf.Session()"
   ]
  },
  {
   "cell_type": "code",
   "execution_count": 12,
   "metadata": {
    "collapsed": true
   },
   "outputs": [],
   "source": [
    "# Initializes global variables in the graph\n",
    "sess.run(tf.global_variables_initializer())"
   ]
  },
  {
   "cell_type": "code",
   "execution_count": 13,
   "metadata": {},
   "outputs": [
    {
     "name": "stdout",
     "output_type": "stream",
     "text": [
      "(0, 'Cost: ', 175699.08, '\\nPrediction:\\n', array([[-244.53662109],\n",
      "       [-304.20327759],\n",
      "       [-294.2902832 ],\n",
      "       [-323.09188843],\n",
      "       [-232.27223206],\n",
      "       [-176.13139343],\n",
      "       [-242.56671143],\n",
      "       [-180.59992981],\n",
      "       [-289.68759155],\n",
      "       [-274.75057983]], dtype=float32))\n",
      "(100, 'Cost: ', 53.86433, '\\nPrediction:\\n', array([[ 159.57720947],\n",
      "       [ 182.08728027],\n",
      "       [ 184.54443359],\n",
      "       [ 198.57609558],\n",
      "       [ 138.59939575],\n",
      "       [  97.64398956],\n",
      "       [ 148.02508545],\n",
      "       [ 109.09072876],\n",
      "       [ 165.14151001],\n",
      "       [ 146.98323059]], dtype=float32))\n",
      "(200, 'Cost: ', 49.212082, '\\nPrediction:\\n', array([[ 159.29504395],\n",
      "       [ 182.22964478],\n",
      "       [ 184.42366028],\n",
      "       [ 198.60194397],\n",
      "       [ 138.69778442],\n",
      "       [  98.01564789],\n",
      "       [ 148.1434021 ],\n",
      "       [ 109.30250549],\n",
      "       [ 165.57858276],\n",
      "       [ 147.77902222]], dtype=float32))\n",
      "(300, 'Cost: ', 44.983192, '\\nPrediction:\\n', array([[ 159.02572632],\n",
      "       [ 182.36531067],\n",
      "       [ 184.30827332],\n",
      "       [ 198.6267395 ],\n",
      "       [ 138.79125977],\n",
      "       [  98.37039185],\n",
      "       [ 148.25680542],\n",
      "       [ 109.50563049],\n",
      "       [ 165.9957428 ],\n",
      "       [ 148.5390625 ]], dtype=float32))\n",
      "(400, 'Cost: ', 41.139755, '\\nPrediction:\\n', array([[ 158.76869202],\n",
      "       [ 182.49456787],\n",
      "       [ 184.19804382],\n",
      "       [ 198.6505127 ],\n",
      "       [ 138.88005066],\n",
      "       [  98.70896149],\n",
      "       [ 148.36553955],\n",
      "       [ 109.70041656],\n",
      "       [ 166.3939209 ],\n",
      "       [ 149.26498413]], dtype=float32))\n",
      "(500, 'Cost: ', 37.647236, '\\nPrediction:\\n', array([[ 158.52342224],\n",
      "       [ 182.61773682],\n",
      "       [ 184.0927124 ],\n",
      "       [ 198.67332458],\n",
      "       [ 138.96440125],\n",
      "       [  99.03212738],\n",
      "       [ 148.46981812],\n",
      "       [ 109.88725281],\n",
      "       [ 166.77397156],\n",
      "       [ 149.95831299]], dtype=float32))\n",
      "(600, 'Cost: ', 34.474323, '\\nPrediction:\\n', array([[ 158.28933716],\n",
      "       [ 182.73504639],\n",
      "       [ 183.99211121],\n",
      "       [ 198.69520569],\n",
      "       [ 139.04449463],\n",
      "       [  99.34056854],\n",
      "       [ 148.5697937 ],\n",
      "       [ 110.06647491],\n",
      "       [ 167.13670349],\n",
      "       [ 150.6204834 ]], dtype=float32))\n",
      "(700, 'Cost: ', 31.592169, '\\nPrediction:\\n', array([[ 158.06599426],\n",
      "       [ 182.84683228],\n",
      "       [ 183.89601135],\n",
      "       [ 198.71620178],\n",
      "       [ 139.12054443],\n",
      "       [  99.63495636],\n",
      "       [ 148.66569519],\n",
      "       [ 110.23840332],\n",
      "       [ 167.48292542],\n",
      "       [ 151.25296021]], dtype=float32))\n",
      "(800, 'Cost: ', 28.974964, '\\nPrediction:\\n', array([[ 157.85281372],\n",
      "       [ 182.95330811],\n",
      "       [ 183.80413818],\n",
      "       [ 198.73629761],\n",
      "       [ 139.19271851],\n",
      "       [  99.91590118],\n",
      "       [ 148.75761414],\n",
      "       [ 110.40332794],\n",
      "       [ 167.81330872],\n",
      "       [ 151.85694885]], dtype=float32))\n",
      "(900, 'Cost: ', 26.598621, '\\nPrediction:\\n', array([[ 157.64941406],\n",
      "       [ 183.05471802],\n",
      "       [ 183.71641541],\n",
      "       [ 198.75563049],\n",
      "       [ 139.26126099],\n",
      "       [ 100.18405151],\n",
      "       [ 148.8458252 ],\n",
      "       [ 110.56156921],\n",
      "       [ 168.12866211],\n",
      "       [ 152.43385315]], dtype=float32))\n",
      "(1000, 'Cost: ', 24.44162, '\\nPrediction:\\n', array([[ 157.45532227],\n",
      "       [ 183.15130615],\n",
      "       [ 183.63258362],\n",
      "       [ 198.77415466],\n",
      "       [ 139.32629395],\n",
      "       [ 100.43994904],\n",
      "       [ 148.9303894 ],\n",
      "       [ 110.71340179],\n",
      "       [ 168.42961121],\n",
      "       [ 152.9848175 ]], dtype=float32))\n",
      "(1100, 'Cost: ', 22.48411, '\\nPrediction:\\n', array([[ 157.2701416 ],\n",
      "       [ 183.24333191],\n",
      "       [ 183.55253601],\n",
      "       [ 198.79194641],\n",
      "       [ 139.38801575],\n",
      "       [ 100.68417358],\n",
      "       [ 149.0115509 ],\n",
      "       [ 110.85909271],\n",
      "       [ 168.71684265],\n",
      "       [ 153.51106262]], dtype=float32))\n",
      "(1200, 'Cost: ', 20.708263, '\\nPrediction:\\n', array([[ 157.09341431],\n",
      "       [ 183.33094788],\n",
      "       [ 183.47602844],\n",
      "       [ 198.80900574],\n",
      "       [ 139.44654846],\n",
      "       [ 100.91724396],\n",
      "       [ 149.08937073],\n",
      "       [ 110.99890137],\n",
      "       [ 168.99092102],\n",
      "       [ 154.01361084]], dtype=float32))\n",
      "(1300, 'Cost: ', 19.097523, '\\nPrediction:\\n', array([[ 156.92480469],\n",
      "       [ 183.41436768],\n",
      "       [ 183.40293884],\n",
      "       [ 198.8253479 ],\n",
      "       [ 139.5020752 ],\n",
      "       [ 101.13964081],\n",
      "       [ 149.16404724],\n",
      "       [ 111.1330719 ],\n",
      "       [ 169.25250244],\n",
      "       [ 154.49359131]], dtype=float32))\n",
      "(1400, 'Cost: ', 17.6371, '\\nPrediction:\\n', array([[ 156.76391602],\n",
      "       [ 183.49378967],\n",
      "       [ 183.33309937],\n",
      "       [ 198.84107971],\n",
      "       [ 139.55471802],\n",
      "       [ 101.35186768],\n",
      "       [ 149.23568726],\n",
      "       [ 111.26183319],\n",
      "       [ 169.50210571],\n",
      "       [ 154.95198059]], dtype=float32))\n",
      "(1500, 'Cost: ', 16.313272, '\\nPrediction:\\n', array([[ 156.61044312],\n",
      "       [ 183.56942749],\n",
      "       [ 183.26641846],\n",
      "       [ 198.85617065],\n",
      "       [ 139.60464478],\n",
      "       [ 101.55439758],\n",
      "       [ 149.30445862],\n",
      "       [ 111.38543701],\n",
      "       [ 169.74032593],\n",
      "       [ 155.38978577]], dtype=float32))\n",
      "(1600, 'Cost: ', 15.113751, '\\nPrediction:\\n', array([[ 156.46400452],\n",
      "       [ 183.64143372],\n",
      "       [ 183.20266724],\n",
      "       [ 198.87063599],\n",
      "       [ 139.65196228],\n",
      "       [ 101.74765778],\n",
      "       [ 149.3704071 ],\n",
      "       [ 111.5040741 ],\n",
      "       [ 169.96760559],\n",
      "       [ 155.80787659]], dtype=float32))\n",
      "(1700, 'Cost: ', 14.027194, '\\nPrediction:\\n', array([[ 156.32427979],\n",
      "       [ 183.7099762 ],\n",
      "       [ 183.14176941],\n",
      "       [ 198.88452148],\n",
      "       [ 139.6967926 ],\n",
      "       [ 101.93206024],\n",
      "       [ 149.4336853 ],\n",
      "       [ 111.6179657 ],\n",
      "       [ 170.18447876],\n",
      "       [ 156.20716858]], dtype=float32))\n",
      "(1800, 'Cost: ', 13.043315, '\\nPrediction:\\n', array([[ 156.19099426],\n",
      "       [ 183.77522278],\n",
      "       [ 183.08360291],\n",
      "       [ 198.89787292],\n",
      "       [ 139.73928833],\n",
      "       [ 102.10800934],\n",
      "       [ 149.4944458 ],\n",
      "       [ 111.72730255],\n",
      "       [ 170.39144897],\n",
      "       [ 156.58851624]], dtype=float32))\n",
      "(1900, 'Cost: ', 12.152809, '\\nPrediction:\\n', array([[ 156.06384277],\n",
      "       [ 183.83731079],\n",
      "       [ 183.02804565],\n",
      "       [ 198.91067505],\n",
      "       [ 139.7795105 ],\n",
      "       [ 102.27589417],\n",
      "       [ 149.55274963],\n",
      "       [ 111.83229065],\n",
      "       [ 170.58891296],\n",
      "       [ 156.95271301]], dtype=float32))\n",
      "(2000, 'Cost: ', 11.347143, '\\nPrediction:\\n', array([[ 155.94255066],\n",
      "       [ 183.89640808],\n",
      "       [ 182.97492981],\n",
      "       [ 198.92297363],\n",
      "       [ 139.81761169],\n",
      "       [ 102.4360733 ],\n",
      "       [ 149.60870361],\n",
      "       [ 111.93309784],\n",
      "       [ 170.77731323],\n",
      "       [ 157.30050659]], dtype=float32))\n"
     ]
    }
   ],
   "source": [
    "# Start populating the filename_queue\n",
    "coord = tf.train.Coordinator()\n",
    "threads = tf.train.start_queue_runners(sess=sess, coord=coord)\n",
    "\n",
    "for step in range(2001):\n",
    "    x_batch, y_batch = sess.run([train_x_batch, train_y_batch])\n",
    "    cost_val, hy_val, _ = sess.run([cost, hypothesis, train], feed_dict={X: x_batch, Y: y_batch})\n",
    "    if step %100 == 0:\n",
    "        print(step, \"Cost: \", cost_val, \"\\nPrediction:\\n\", hy_val)\n",
    "coord.request_stop()\n",
    "coord.join(threads)"
   ]
  }
 ],
 "metadata": {
  "kernelspec": {
   "display_name": "Python 2",
   "language": "python",
   "name": "python2"
  },
  "language_info": {
   "codemirror_mode": {
    "name": "ipython",
    "version": 2
   },
   "file_extension": ".py",
   "mimetype": "text/x-python",
   "name": "python",
   "nbconvert_exporter": "python",
   "pygments_lexer": "ipython2",
   "version": "2.7.12"
  }
 },
 "nbformat": 4,
 "nbformat_minor": 2
}
