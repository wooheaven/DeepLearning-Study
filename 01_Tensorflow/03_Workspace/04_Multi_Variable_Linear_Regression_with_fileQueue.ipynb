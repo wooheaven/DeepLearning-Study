{
 "cells": [
  {
   "cell_type": "code",
   "execution_count": 1,
   "metadata": {
    "collapsed": true
   },
   "outputs": [],
   "source": [
    "import tensorflow as tf"
   ]
  },
  {
   "cell_type": "code",
   "execution_count": 2,
   "metadata": {},
   "outputs": [],
   "source": [
    "filename_queue = tf.train.string_input_producer(['data-01-test-score.csv'], shuffle=False, name='filename_queue')"
   ]
  },
  {
   "cell_type": "code",
   "execution_count": 3,
   "metadata": {
    "collapsed": true
   },
   "outputs": [],
   "source": [
    "reader = tf.TextLineReader()\n",
    "key, value = reader.read(filename_queue)"
   ]
  },
  {
   "cell_type": "code",
   "execution_count": 4,
   "metadata": {},
   "outputs": [],
   "source": [
    "# Set default values And Specifies the type of the decoded result\n",
    "record_defaults = [[0.], [0.], [0.], [0.]]\n",
    "xy = tf.decode_csv(value, record_defaults=record_defaults)"
   ]
  },
  {
   "cell_type": "code",
   "execution_count": 5,
   "metadata": {},
   "outputs": [],
   "source": [
    "# collect batches of csv \n",
    "train_x_batch, train_y_batch = tf.train.batch([xy[0:-1], xy[-1:]], batch_size=10)"
   ]
  },
  {
   "cell_type": "code",
   "execution_count": 6,
   "metadata": {
    "collapsed": true
   },
   "outputs": [],
   "source": [
    "# placeholders for a tensor that will be alwats fed\n",
    "X = tf.placeholder(tf.float32, shape=[None, 3])\n",
    "Y = tf.placeholder(tf.float32, shape=[None, 1])"
   ]
  },
  {
   "cell_type": "code",
   "execution_count": 7,
   "metadata": {
    "collapsed": true
   },
   "outputs": [],
   "source": [
    "W = tf.Variable(tf.random_normal([3,1]), name='weight')\n",
    "b = tf.Variable(tf.random_normal([1]), name='bias')"
   ]
  },
  {
   "cell_type": "code",
   "execution_count": 8,
   "metadata": {
    "collapsed": true
   },
   "outputs": [],
   "source": [
    "# Hypothesis\n",
    "hypothesis = tf.matmul(X, W) + b"
   ]
  },
  {
   "cell_type": "code",
   "execution_count": 9,
   "metadata": {
    "collapsed": true
   },
   "outputs": [],
   "source": [
    "# Simplified cost/loss function\n",
    "cost = tf.reduce_mean(tf.square(hypothesis - Y))"
   ]
  },
  {
   "cell_type": "code",
   "execution_count": 10,
   "metadata": {
    "collapsed": true
   },
   "outputs": [],
   "source": [
    "# Minimize\n",
    "optimizer = tf.train.GradientDescentOptimizer(learning_rate=1e-5)\n",
    "train = optimizer.minimize(cost)"
   ]
  },
  {
   "cell_type": "code",
   "execution_count": 11,
   "metadata": {
    "collapsed": true
   },
   "outputs": [],
   "source": [
    "# Launch the graph in a session\n",
    "sess = tf.Session()"
   ]
  },
  {
   "cell_type": "code",
   "execution_count": 12,
   "metadata": {
    "collapsed": true
   },
   "outputs": [],
   "source": [
    "# Initializes global variables in the graph\n",
    "sess.run(tf.global_variables_initializer())"
   ]
  },
  {
   "cell_type": "code",
   "execution_count": 13,
   "metadata": {},
   "outputs": [
    {
     "name": "stdout",
     "output_type": "stream",
     "text": [
      "(0, 'Cost: ', 40754.039, '\\nPrediction:\\n', array([[-48.15549469],\n",
      "       [-49.12400818],\n",
      "       [-53.03891754],\n",
      "       [-56.95539093],\n",
      "       [-35.82605743],\n",
      "       [-23.88764   ],\n",
      "       [-43.69130707],\n",
      "       [-34.18811035],\n",
      "       [-42.75863647],\n",
      "       [-36.86229706]], dtype=float32))\n",
      "(100, 'Cost: ', 21.896589, '\\nPrediction:\\n', array([[ 149.96099854],\n",
      "       [ 188.78887939],\n",
      "       [ 181.48556519],\n",
      "       [ 198.46606445],\n",
      "       [ 145.56497192],\n",
      "       [ 109.83066559],\n",
      "       [ 147.56777954],\n",
      "       [ 107.69974518],\n",
      "       [ 179.54830933],\n",
      "       [ 169.04406738]], dtype=float32))\n",
      "(200, 'Cost: ', 20.913607, '\\nPrediction:\\n', array([[ 150.06910706],\n",
      "       [ 188.68333435],\n",
      "       [ 181.50299072],\n",
      "       [ 198.48423767],\n",
      "       [ 145.42657471],\n",
      "       [ 109.69988251],\n",
      "       [ 147.64630127],\n",
      "       [ 107.85566711],\n",
      "       [ 179.39408875],\n",
      "       [ 168.87841797]], dtype=float32))\n",
      "(300, 'Cost: ', 19.987871, '\\nPrediction:\\n', array([[ 150.17359924],\n",
      "       [ 188.5809021 ],\n",
      "       [ 181.51960754],\n",
      "       [ 198.50204468],\n",
      "       [ 145.29199219],\n",
      "       [ 109.57354736],\n",
      "       [ 147.72320557],\n",
      "       [ 108.00830078],\n",
      "       [ 179.24510193],\n",
      "       [ 168.71940613]], dtype=float32))\n",
      "(400, 'Cost: ', 19.115887, '\\nPrediction:\\n', array([[ 150.27462769],\n",
      "       [ 188.48147583],\n",
      "       [ 181.53543091],\n",
      "       [ 198.51947021],\n",
      "       [ 145.16110229],\n",
      "       [ 109.45149994],\n",
      "       [ 147.79849243],\n",
      "       [ 108.15768433],\n",
      "       [ 179.10116577],\n",
      "       [ 168.56674194]], dtype=float32))\n",
      "(500, 'Cost: ', 18.294468, '\\nPrediction:\\n', array([[ 150.37231445],\n",
      "       [ 188.38497925],\n",
      "       [ 181.55053711],\n",
      "       [ 198.53652954],\n",
      "       [ 145.03381348],\n",
      "       [ 109.33358765],\n",
      "       [ 147.87220764],\n",
      "       [ 108.30387115],\n",
      "       [ 178.96212769],\n",
      "       [ 168.42016602]], dtype=float32))\n",
      "(600, 'Cost: ', 17.520493, '\\nPrediction:\\n', array([[ 150.46676636],\n",
      "       [ 188.29130554],\n",
      "       [ 181.56494141],\n",
      "       [ 198.55323792],\n",
      "       [ 144.91000366],\n",
      "       [ 109.21965027],\n",
      "       [ 147.94438171],\n",
      "       [ 108.4469223 ],\n",
      "       [ 178.82775879],\n",
      "       [ 168.27944946]], dtype=float32))\n",
      "(700, 'Cost: ', 16.791033, '\\nPrediction:\\n', array([[ 150.55809021],\n",
      "       [ 188.2003479 ],\n",
      "       [ 181.57865906],\n",
      "       [ 198.56956482],\n",
      "       [ 144.78956604],\n",
      "       [ 109.10954285],\n",
      "       [ 148.01501465],\n",
      "       [ 108.58689117],\n",
      "       [ 178.69789124],\n",
      "       [ 168.14430237]], dtype=float32))\n",
      "(800, 'Cost: ', 16.103519, '\\nPrediction:\\n', array([[ 150.64642334],\n",
      "       [ 188.11207581],\n",
      "       [ 181.5917511 ],\n",
      "       [ 198.58555603],\n",
      "       [ 144.67242432],\n",
      "       [ 109.00312805],\n",
      "       [ 148.08416748],\n",
      "       [ 108.72384644],\n",
      "       [ 178.5723877 ],\n",
      "       [ 168.01454163]], dtype=float32))\n",
      "(900, 'Cost: ', 15.455383, '\\nPrediction:\\n', array([[ 150.73187256],\n",
      "       [ 188.02633667],\n",
      "       [ 181.60423279],\n",
      "       [ 198.60121155],\n",
      "       [ 144.55847168],\n",
      "       [ 108.90026093],\n",
      "       [ 148.15184021],\n",
      "       [ 108.8578186 ],\n",
      "       [ 178.45109558],\n",
      "       [ 167.88990784]], dtype=float32))\n",
      "(1000, 'Cost: ', 14.844267, '\\nPrediction:\\n', array([[ 150.81452942],\n",
      "       [ 187.94309998],\n",
      "       [ 181.61611938],\n",
      "       [ 198.61654663],\n",
      "       [ 144.44761658],\n",
      "       [ 108.80082703],\n",
      "       [ 148.21806335],\n",
      "       [ 108.9888916 ],\n",
      "       [ 178.33381653],\n",
      "       [ 167.77020264]], dtype=float32))\n",
      "(1100, 'Cost: ', 14.267984, '\\nPrediction:\\n', array([[ 150.89450073],\n",
      "       [ 187.86225891],\n",
      "       [ 181.62745667],\n",
      "       [ 198.6315155 ],\n",
      "       [ 144.33976746],\n",
      "       [ 108.70468903],\n",
      "       [ 148.28288269],\n",
      "       [ 109.11708832],\n",
      "       [ 178.22045898],\n",
      "       [ 167.65522766]], dtype=float32))\n",
      "(1200, 'Cost: ', 13.724421, '\\nPrediction:\\n', array([[ 150.97186279],\n",
      "       [ 187.78373718],\n",
      "       [ 181.63824463],\n",
      "       [ 198.6461792 ],\n",
      "       [ 144.23483276],\n",
      "       [ 108.61174774],\n",
      "       [ 148.34628296],\n",
      "       [ 109.24250031],\n",
      "       [ 178.11083984],\n",
      "       [ 167.54473877]], dtype=float32))\n",
      "(1300, 'Cost: ', 13.211734, '\\nPrediction:\\n', array([[ 151.04672241],\n",
      "       [ 187.70750427],\n",
      "       [ 181.64852905],\n",
      "       [ 198.66052246],\n",
      "       [ 144.13275146],\n",
      "       [ 108.52186584],\n",
      "       [ 148.4083252 ],\n",
      "       [ 109.36514282],\n",
      "       [ 178.00483704],\n",
      "       [ 167.43862915]], dtype=float32))\n",
      "(1400, 'Cost: ', 12.728027, '\\nPrediction:\\n', array([[ 151.1191864 ],\n",
      "       [ 187.63343811],\n",
      "       [ 181.65834045],\n",
      "       [ 198.67456055],\n",
      "       [ 144.03341675],\n",
      "       [ 108.43493652],\n",
      "       [ 148.46902466],\n",
      "       [ 109.48508453],\n",
      "       [ 177.90231323],\n",
      "       [ 167.33666992]], dtype=float32))\n",
      "(1500, 'Cost: ', 12.271627, '\\nPrediction:\\n', array([[ 151.1893158 ],\n",
      "       [ 187.56150818],\n",
      "       [ 181.66767883],\n",
      "       [ 198.6882782 ],\n",
      "       [ 143.93678284],\n",
      "       [ 108.3508606 ],\n",
      "       [ 148.52839661],\n",
      "       [ 109.60238647],\n",
      "       [ 177.80317688],\n",
      "       [ 167.23867798]], dtype=float32))\n",
      "(1600, 'Cost: ', 11.84094, '\\nPrediction:\\n', array([[ 151.25718689],\n",
      "       [ 187.49162292],\n",
      "       [ 181.67658997],\n",
      "       [ 198.70169067],\n",
      "       [ 143.84272766],\n",
      "       [ 108.26953888],\n",
      "       [ 148.58647156],\n",
      "       [ 109.71708679],\n",
      "       [ 177.70726013],\n",
      "       [ 167.14453125]], dtype=float32))\n",
      "(1700, 'Cost: ', 11.434436, '\\nPrediction:\\n', array([[ 151.32287598],\n",
      "       [ 187.42370605],\n",
      "       [ 181.68505859],\n",
      "       [ 198.71481323],\n",
      "       [ 143.75119019],\n",
      "       [ 108.19086456],\n",
      "       [ 148.64328003],\n",
      "       [ 109.82923889],\n",
      "       [ 177.61447144],\n",
      "       [ 167.05404663]], dtype=float32))\n",
      "(1800, 'Cost: ', 11.050806, '\\nPrediction:\\n', array([[ 151.38650513],\n",
      "       [ 187.35777283],\n",
      "       [ 181.69316101],\n",
      "       [ 198.72766113],\n",
      "       [ 143.66215515],\n",
      "       [ 108.11475372],\n",
      "       [ 148.69885254],\n",
      "       [ 109.93889618],\n",
      "       [ 177.52471924],\n",
      "       [ 166.96707153]], dtype=float32))\n",
      "(1900, 'Cost: ', 10.688579, '\\nPrediction:\\n', array([[ 151.44810486],\n",
      "       [ 187.29368591],\n",
      "       [ 181.70085144],\n",
      "       [ 198.7401886 ],\n",
      "       [ 143.57545471],\n",
      "       [ 108.04110718],\n",
      "       [ 148.75318909],\n",
      "       [ 110.04611206],\n",
      "       [ 177.43785095],\n",
      "       [ 166.88346863]], dtype=float32))\n",
      "(2000, 'Cost: ', 10.346624, '\\nPrediction:\\n', array([[ 151.50772095],\n",
      "       [ 187.23139954],\n",
      "       [ 181.70817566],\n",
      "       [ 198.75245667],\n",
      "       [ 143.49110413],\n",
      "       [ 107.969841  ],\n",
      "       [ 148.80633545],\n",
      "       [ 110.15093231],\n",
      "       [ 177.3538208 ],\n",
      "       [ 166.80310059]], dtype=float32))\n"
     ]
    }
   ],
   "source": [
    "# Start populating the filename_queue\n",
    "coord = tf.train.Coordinator()\n",
    "threads = tf.train.start_queue_runners(sess=sess, coord=coord)\n",
    "\n",
    "for step in range(2001):\n",
    "    x_batch, y_batch = sess.run([train_x_batch, train_y_batch])\n",
    "    cost_val, hy_val, _ = sess.run([cost, hypothesis, train], feed_dict={X: x_batch, Y: y_batch})\n",
    "    if step %100 == 0:\n",
    "        print(step, \"Cost: \", cost_val, \"\\nPrediction:\\n\", hy_val)\n",
    "coord.request_stop()\n",
    "coord.join(threads)"
   ]
  }
 ],
 "metadata": {
  "kernelspec": {
   "display_name": "Python 2",
   "language": "python",
   "name": "python2"
  },
  "language_info": {
   "codemirror_mode": {
    "name": "ipython",
    "version": 2
   },
   "file_extension": ".py",
   "mimetype": "text/x-python",
   "name": "python",
   "nbconvert_exporter": "python",
   "pygments_lexer": "ipython2",
   "version": "2.7.12"
  }
 },
 "nbformat": 4,
 "nbformat_minor": 2
}
