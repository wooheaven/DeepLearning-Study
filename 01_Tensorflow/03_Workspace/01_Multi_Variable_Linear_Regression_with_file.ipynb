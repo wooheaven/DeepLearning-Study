{
 "cells": [
  {
   "cell_type": "code",
   "execution_count": 1,
   "metadata": {
    "collapsed": true
   },
   "outputs": [],
   "source": [
    "import numpy as np"
   ]
  },
  {
   "cell_type": "code",
   "execution_count": 2,
   "metadata": {},
   "outputs": [
    {
     "data": {
      "text/plain": [
       "array([[  73.,   80.,   75.,  152.],\n",
       "       [  93.,   88.,   93.,  185.],\n",
       "       [  89.,   91.,   90.,  180.],\n",
       "       [  96.,   98.,  100.,  196.],\n",
       "       [  73.,   66.,   70.,  142.],\n",
       "       [  52.,   46.,   55.,  101.]], dtype=float32)"
      ]
     },
     "execution_count": 2,
     "metadata": {},
     "output_type": "execute_result"
    }
   ],
   "source": [
    "xy = np.loadtxt('data-01-test-score.csv', delimiter=',', dtype=np.float32)\n",
    "xy"
   ]
  },
  {
   "cell_type": "code",
   "execution_count": 3,
   "metadata": {},
   "outputs": [
    {
     "data": {
      "text/plain": [
       "array([[  73.,   80.,   75.],\n",
       "       [  93.,   88.,   93.],\n",
       "       [  89.,   91.,   90.],\n",
       "       [  96.,   98.,  100.],\n",
       "       [  73.,   66.,   70.],\n",
       "       [  52.,   46.,   55.]], dtype=float32)"
      ]
     },
     "execution_count": 3,
     "metadata": {},
     "output_type": "execute_result"
    }
   ],
   "source": [
    "x_data = xy[:,0:-1]\n",
    "x_data"
   ]
  },
  {
   "cell_type": "code",
   "execution_count": 4,
   "metadata": {},
   "outputs": [
    {
     "data": {
      "text/plain": [
       "array([[ 152.],\n",
       "       [ 185.],\n",
       "       [ 180.],\n",
       "       [ 196.],\n",
       "       [ 142.],\n",
       "       [ 101.]], dtype=float32)"
      ]
     },
     "execution_count": 4,
     "metadata": {},
     "output_type": "execute_result"
    }
   ],
   "source": [
    "y_data = xy[:,[-1]]\n",
    "y_data"
   ]
  },
  {
   "cell_type": "code",
   "execution_count": 5,
   "metadata": {},
   "outputs": [
    {
     "name": "stdout",
     "output_type": "stream",
     "text": [
      "((6, 3), array([[  73.,   80.,   75.],\n",
      "       [  93.,   88.,   93.],\n",
      "       [  89.,   91.,   90.],\n",
      "       [  96.,   98.,  100.],\n",
      "       [  73.,   66.,   70.],\n",
      "       [  52.,   46.,   55.]], dtype=float32), 6)\n",
      "((6, 1), array([[ 152.],\n",
      "       [ 185.],\n",
      "       [ 180.],\n",
      "       [ 196.],\n",
      "       [ 142.],\n",
      "       [ 101.]], dtype=float32), 6)\n"
     ]
    }
   ],
   "source": [
    "# Make sure the shape and data are OK\n",
    "print(x_data.shape, x_data, len(x_data))\n",
    "print(y_data.shape, y_data, len(y_data))"
   ]
  },
  {
   "cell_type": "code",
   "execution_count": 6,
   "metadata": {
    "collapsed": true
   },
   "outputs": [],
   "source": [
    "import tensorflow as tf"
   ]
  },
  {
   "cell_type": "code",
   "execution_count": 7,
   "metadata": {
    "collapsed": true
   },
   "outputs": [],
   "source": [
    "# for reproducibility\n",
    "tf.set_random_seed(777)"
   ]
  },
  {
   "cell_type": "code",
   "execution_count": 8,
   "metadata": {
    "collapsed": true
   },
   "outputs": [],
   "source": [
    "# placeholders for a tensor that will be always fed.\n",
    "X = tf.placeholder(tf.float32, shape=[None, 3])\n",
    "Y = tf.placeholder(tf.float32, shape=[None, 1])"
   ]
  },
  {
   "cell_type": "code",
   "execution_count": 9,
   "metadata": {
    "collapsed": true
   },
   "outputs": [],
   "source": [
    "W = tf.Variable(tf.random_normal([3,1]), name='weight')\n",
    "b = tf.Variable(tf.random_normal([1]), name='bias')"
   ]
  },
  {
   "cell_type": "code",
   "execution_count": 10,
   "metadata": {
    "collapsed": true
   },
   "outputs": [],
   "source": [
    "# Hypothesis\n",
    "hypothesis = tf.matmul(X, W) + b"
   ]
  },
  {
   "cell_type": "code",
   "execution_count": 11,
   "metadata": {
    "collapsed": true
   },
   "outputs": [],
   "source": [
    "# Simplified cost/loss function\n",
    "cost = tf.reduce_mean(tf.square(hypothesis - Y))"
   ]
  },
  {
   "cell_type": "code",
   "execution_count": 12,
   "metadata": {
    "collapsed": true
   },
   "outputs": [],
   "source": [
    "# Minimize\n",
    "optimizer = tf.train.GradientDescentOptimizer(learning_rate=1e-5)\n",
    "train = optimizer.minimize(cost)"
   ]
  },
  {
   "cell_type": "code",
   "execution_count": 13,
   "metadata": {
    "collapsed": true
   },
   "outputs": [],
   "source": [
    "# Launch the graph in a session\n",
    "sess = tf.Session()"
   ]
  },
  {
   "cell_type": "code",
   "execution_count": 14,
   "metadata": {
    "collapsed": true
   },
   "outputs": [],
   "source": [
    "# Initializes global variables in the graph\n",
    "sess.run(tf.global_variables_initializer())"
   ]
  },
  {
   "cell_type": "code",
   "execution_count": 15,
   "metadata": {},
   "outputs": [
    {
     "name": "stdout",
     "output_type": "stream",
     "text": [
      "(0, 'Cost: ', 20369.459, '\\nPrediction:\\n', array([[ 22.04806328],\n",
      "       [ 21.61978722],\n",
      "       [ 24.09669304],\n",
      "       [ 22.29300499],\n",
      "       [ 18.6339016 ],\n",
      "       [  6.46427727]], dtype=float32))\n",
      "(5000, 'Cost: ', 1.5353576, '\\nPrediction:\\n', array([[ 152.95591736],\n",
      "       [ 184.15989685],\n",
      "       [ 181.49481201],\n",
      "       [ 194.6179657 ],\n",
      "       [ 143.14367676],\n",
      "       [  99.53708649]], dtype=float32))\n",
      "(10000, 'Cost: ', 0.92545462, '\\nPrediction:\\n', array([[ 152.30474854],\n",
      "       [ 184.40440369],\n",
      "       [ 181.17381287],\n",
      "       [ 194.66770935],\n",
      "       [ 143.25553894],\n",
      "       [ 100.3868866 ]], dtype=float32))\n",
      "(15000, 'Cost: ', 0.70512038, '\\nPrediction:\\n', array([[ 152.16125488],\n",
      "       [ 184.41134644],\n",
      "       [ 181.06819153],\n",
      "       [ 194.80149841],\n",
      "       [ 143.09919739],\n",
      "       [ 100.73068237]], dtype=float32))\n",
      "(20000, 'Cost: ', 0.57387918, '\\nPrediction:\\n', array([[ 152.12464905],\n",
      "       [ 184.37835693],\n",
      "       [ 181.01545715],\n",
      "       [ 194.92720032],\n",
      "       [ 142.92462158],\n",
      "       [ 100.93427277]], dtype=float32))\n"
     ]
    }
   ],
   "source": [
    "# Set up feed_dict variables inside the loop\n",
    "for step in range(20001):\n",
    "    cost_val, hy_val, _ = sess.run([cost, hypothesis, train], feed_dict={X: x_data, Y: y_data})\n",
    "    if step % 5000 == 0:\n",
    "        print(step, \"Cost: \", cost_val, \"\\nPrediction:\\n\", hy_val)"
   ]
  },
  {
   "cell_type": "code",
   "execution_count": 16,
   "metadata": {},
   "outputs": [
    {
     "name": "stdout",
     "output_type": "stream",
     "text": [
      "('Your score will be ', array([[ 181.42991638]], dtype=float32))\n",
      "('Other scores will be ', array([[ 124.98974609],\n",
      "       [ 189.14985657]], dtype=float32))\n"
     ]
    }
   ],
   "source": [
    "# Ask my score\n",
    "print(\"Your score will be \", sess.run(hypothesis, feed_dict={X: [[100, 70, 101]]}))\n",
    "print(\"Other scores will be \", sess.run(hypothesis, feed_dict={X: [[60,70,110], [90, 100, 80]]}))"
   ]
  }
 ],
 "metadata": {
  "kernelspec": {
   "display_name": "Python 2",
   "language": "python",
   "name": "python2"
  },
  "language_info": {
   "codemirror_mode": {
    "name": "ipython",
    "version": 2
   },
   "file_extension": ".py",
   "mimetype": "text/x-python",
   "name": "python",
   "nbconvert_exporter": "python",
   "pygments_lexer": "ipython2",
   "version": "2.7.12"
  }
 },
 "nbformat": 4,
 "nbformat_minor": 2
}
