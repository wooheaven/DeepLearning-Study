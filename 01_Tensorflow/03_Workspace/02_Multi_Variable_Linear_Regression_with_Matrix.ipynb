{
 "cells": [
  {
   "cell_type": "code",
   "execution_count": 1,
   "metadata": {
    "collapsed": true
   },
   "outputs": [],
   "source": [
    "# input data\n",
    "import tensorflow as tf\n",
    "tf.set_random_seed(777)\n",
    "\n",
    "x_data = [[73.,80.,75.], [93.,88.,93.],[89.,91.,90.],[96.,98.,100],[73.,66.,70.]] \n",
    "# 1번째 학생이 1번째 시험에서 73점을 받음\n",
    "# 1번째 학생이 2번째 시험에서 80점을 받음\n",
    "# 1번째 학생이 3번째 시험에서 75점을 받음\n",
    "\n",
    "y_data = [[152.], [185.], [180.], [196.], [142.]]\n",
    "# 1번째 학생이 기말고사에서 152점을 받음"
   ]
  },
  {
   "cell_type": "code",
   "execution_count": 2,
   "metadata": {
    "collapsed": true
   },
   "outputs": [],
   "source": [
    "# give placeholders to a tensor\n",
    "X = tf.placeholder(tf.float32, shape=[None, 3]) # 학생 수는 정해지지 않음 None, 시험은 3번 봄\n",
    "Y = tf.placeholder(tf.float32, shape=[None, 1]) # 학생 수는 정해지지 않음 None, 기말고사는 1번만 봄"
   ]
  },
  {
   "cell_type": "code",
   "execution_count": 3,
   "metadata": {
    "collapsed": true
   },
   "outputs": [],
   "source": [
    "# define weight and bias\n",
    "W = tf.Variable(tf.random_normal([3,1]), name='weight')\n",
    "b = tf.Variable(tf.random_normal([1]), name='bias')"
   ]
  },
  {
   "cell_type": "code",
   "execution_count": 4,
   "metadata": {
    "collapsed": true
   },
   "outputs": [],
   "source": [
    "# hypothesis\n",
    "hypothesis = tf.matmul(X,W) + b"
   ]
  },
  {
   "cell_type": "code",
   "execution_count": 5,
   "metadata": {
    "collapsed": true
   },
   "outputs": [],
   "source": [
    "# cost(or loss) function\n",
    "cost = tf.reduce_mean(tf.square(hypothesis - Y))"
   ]
  },
  {
   "cell_type": "code",
   "execution_count": 6,
   "metadata": {
    "collapsed": true
   },
   "outputs": [],
   "source": [
    "# Optimizer\n",
    "optimizer = tf.train.GradientDescentOptimizer(learning_rate=1e-5)\n",
    "train = optimizer.minimize(cost)"
   ]
  },
  {
   "cell_type": "code",
   "execution_count": 7,
   "metadata": {
    "collapsed": true
   },
   "outputs": [],
   "source": [
    "# session\n",
    "sess = tf.Session()\n",
    "sess.run(tf.global_variables_initializer())"
   ]
  },
  {
   "cell_type": "code",
   "execution_count": 8,
   "metadata": {},
   "outputs": [
    {
     "name": "stdout",
     "output_type": "stream",
     "text": [
      "(0, 'Cost: ', 22655.951, 'Prediction: ', array([[ 22.04806328],\n",
      "       [ 21.61978722],\n",
      "       [ 24.09669304],\n",
      "       [ 22.29300499],\n",
      "       [ 18.6339016 ]], dtype=float32), 'Bias: ', array([ 0.46146438], dtype=float32))\n",
      "(100, 'Cost: ', 5.6471701, 'Prediction: ', array([[ 155.50875854],\n",
      "       [ 182.17552185],\n",
      "       [ 182.21853638],\n",
      "       [ 194.49935913],\n",
      "       [ 141.12081909]], dtype=float32), 'Bias: ', array([ 0.46505573], dtype=float32))\n",
      "(200, 'Cost: ', 5.4492259, 'Prediction: ', array([[ 155.43310547],\n",
      "       [ 182.22671509],\n",
      "       [ 182.19451904],\n",
      "       [ 194.48852539],\n",
      "       [ 141.18247986]], dtype=float32), 'Bias: ', array([ 0.46484694], dtype=float32))\n",
      "(300, 'Cost: ', 5.2612538, 'Prediction: ', array([[ 155.35939026],\n",
      "       [ 182.27655029],\n",
      "       [ 182.17105103],\n",
      "       [ 194.4781189 ],\n",
      "       [ 141.24237061]], dtype=float32), 'Bias: ', array([ 0.46463534], dtype=float32))\n",
      "(400, 'Cost: ', 5.0827336, 'Prediction: ', array([[ 155.28761292],\n",
      "       [ 182.32514954],\n",
      "       [ 182.14820862],\n",
      "       [ 194.46817017],\n",
      "       [ 141.3006134 ]], dtype=float32), 'Bias: ', array([ 0.46442375], dtype=float32))\n",
      "(500, 'Cost: ', 4.9132352, 'Prediction: ', array([[ 155.21765137],\n",
      "       [ 182.37245178],\n",
      "       [ 182.1259613 ],\n",
      "       [ 194.45858765],\n",
      "       [ 141.35717773]], dtype=float32), 'Bias: ', array([ 0.46421215], dtype=float32))\n",
      "(600, 'Cost: ', 4.7522063, 'Prediction: ', array([[ 155.1494751 ],\n",
      "       [ 182.41851807],\n",
      "       [ 182.10421753],\n",
      "       [ 194.44935608],\n",
      "       [ 141.41215515]], dtype=float32), 'Bias: ', array([ 0.463999], dtype=float32))\n",
      "(700, 'Cost: ', 4.5992475, 'Prediction: ', array([[ 155.08305359],\n",
      "       [ 182.46339417],\n",
      "       [ 182.08305359],\n",
      "       [ 194.4405365 ],\n",
      "       [ 141.46557617]], dtype=float32), 'Bias: ', array([ 0.46378443], dtype=float32))\n",
      "(800, 'Cost: ', 4.4539018, 'Prediction: ', array([[ 155.01835632],\n",
      "       [ 182.5071106 ],\n",
      "       [ 182.06236267],\n",
      "       [ 194.43208313],\n",
      "       [ 141.51747131]], dtype=float32), 'Bias: ', array([ 0.46356985], dtype=float32))\n",
      "(900, 'Cost: ', 4.315825, 'Prediction: ', array([[ 154.95529175],\n",
      "       [ 182.54966736],\n",
      "       [ 182.04219055],\n",
      "       [ 194.42393494],\n",
      "       [ 141.56788635]], dtype=float32), 'Bias: ', array([ 0.46335527], dtype=float32))\n",
      "(1000, 'Cost: ', 4.1846113, 'Prediction: ', array([[ 154.8938446 ],\n",
      "       [ 182.59112549],\n",
      "       [ 182.02253723],\n",
      "       [ 194.41615295],\n",
      "       [ 141.61683655]], dtype=float32), 'Bias: ', array([ 0.46313995], dtype=float32))\n",
      "(1100, 'Cost: ', 4.0598507, 'Prediction: ', array([[ 154.83396912],\n",
      "       [ 182.63153076],\n",
      "       [ 182.00337219],\n",
      "       [ 194.40873718],\n",
      "       [ 141.66442871]], dtype=float32), 'Bias: ', array([ 0.46292239], dtype=float32))\n",
      "(1200, 'Cost: ', 3.9412675, 'Prediction: ', array([[ 154.77561951],\n",
      "       [ 182.67086792],\n",
      "       [ 181.98466492],\n",
      "       [ 194.40162659],\n",
      "       [ 141.71064758]], dtype=float32), 'Bias: ', array([ 0.46270484], dtype=float32))\n",
      "(1300, 'Cost: ', 3.8285568, 'Prediction: ', array([[ 154.71881104],\n",
      "       [ 182.70921326],\n",
      "       [ 181.96643066],\n",
      "       [ 194.39483643],\n",
      "       [ 141.75556946]], dtype=float32), 'Bias: ', array([ 0.46248728], dtype=float32))\n",
      "(1400, 'Cost: ', 3.721307, 'Prediction: ', array([[ 154.66337585],\n",
      "       [ 182.74653625],\n",
      "       [ 181.94859314],\n",
      "       [ 194.38832092],\n",
      "       [ 141.79914856]], dtype=float32), 'Bias: ', array([ 0.46226972], dtype=float32))\n",
      "(1500, 'Cost: ', 3.6193376, 'Prediction: ', array([[ 154.60939026],\n",
      "       [ 182.78291321],\n",
      "       [ 181.93125916],\n",
      "       [ 194.38215637],\n",
      "       [ 141.84152222]], dtype=float32), 'Bias: ', array([ 0.46205217], dtype=float32))\n",
      "(1600, 'Cost: ', 3.5223286, 'Prediction: ', array([[ 154.55677795],\n",
      "       [ 182.81832886],\n",
      "       [ 181.91429138],\n",
      "       [ 194.37625122],\n",
      "       [ 141.88265991]], dtype=float32), 'Bias: ', array([ 0.4618327], dtype=float32))\n",
      "(1700, 'Cost: ', 3.4300094, 'Prediction: ', array([[ 154.50549316],\n",
      "       [ 182.85284424],\n",
      "       [ 181.89775085],\n",
      "       [ 194.37063599],\n",
      "       [ 141.92260742]], dtype=float32), 'Bias: ', array([ 0.46161216], dtype=float32))\n",
      "(1800, 'Cost: ', 3.3421352, 'Prediction: ', array([[ 154.45550537],\n",
      "       [ 182.88650513],\n",
      "       [ 181.88163757],\n",
      "       [ 194.36529541],\n",
      "       [ 141.96141052]], dtype=float32), 'Bias: ', array([ 0.46139163], dtype=float32))\n",
      "(1900, 'Cost: ', 3.2584968, 'Prediction: ', array([[ 154.40675354],\n",
      "       [ 182.91923523],\n",
      "       [ 181.86587524],\n",
      "       [ 194.36019897],\n",
      "       [ 141.99906921]], dtype=float32), 'Bias: ', array([ 0.46117109], dtype=float32))\n",
      "(2000, 'Cost: ', 3.1788771, 'Prediction: ', array([[ 154.35929871],\n",
      "       [ 182.95117188],\n",
      "       [ 181.8505249 ],\n",
      "       [ 194.35540771],\n",
      "       [ 142.03565979]], dtype=float32), 'Bias: ', array([ 0.46095055], dtype=float32))\n"
     ]
    }
   ],
   "source": [
    "for step in range(2001):\n",
    "    cost_val, hy_val, _ = sess.run([cost, hypothesis, train], feed_dict={X: x_data, Y: y_data})\n",
    "    if step % 100 == 0:\n",
    "        print(step, \"Cost: \", cost_val, \"Prediction: \", hy_val, \"Bias: \", sess.run(b)) # y_data 에 근사한다."
   ]
  }
 ],
 "metadata": {
  "kernelspec": {
   "display_name": "Python 2",
   "language": "python",
   "name": "python2"
  },
  "language_info": {
   "codemirror_mode": {
    "name": "ipython",
    "version": 2
   },
   "file_extension": ".py",
   "mimetype": "text/x-python",
   "name": "python",
   "nbconvert_exporter": "python",
   "pygments_lexer": "ipython2",
   "version": "2.7.12"
  }
 },
 "nbformat": 4,
 "nbformat_minor": 2
}
