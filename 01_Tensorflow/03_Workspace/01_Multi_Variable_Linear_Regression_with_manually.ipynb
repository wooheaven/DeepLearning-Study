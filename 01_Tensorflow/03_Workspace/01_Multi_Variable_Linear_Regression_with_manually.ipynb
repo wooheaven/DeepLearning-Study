{
 "cells": [
  {
   "cell_type": "code",
   "execution_count": 1,
   "metadata": {
    "collapsed": true
   },
   "outputs": [],
   "source": [
    "# input data\n",
    "import tensorflow as tf\n",
    "tf.set_random_seed(777)\n",
    "x1_data = [73., 93., 89., 96., 73.]     # 1번째 학생이 1번째 시험에서 73점을 받음\n",
    "x2_data = [80., 88., 91., 98., 66.]     # 1번째 학생이 2번째 시험에서 80점을 받음\n",
    "x3_data = [75., 93., 90., 100., 70.]    # 1번째 학생이 3번째 시험에서 75점을 받음\n",
    "y_data = [152., 185., 180., 196., 142.] # 1번째 학생이 기말고사에서 152점을 받음"
   ]
  },
  {
   "cell_type": "code",
   "execution_count": 2,
   "metadata": {
    "collapsed": true
   },
   "outputs": [],
   "source": [
    "# give placeholders to a tensor\n",
    "x1 = tf.placeholder(tf.float32)\n",
    "x2 = tf.placeholder(tf.float32)\n",
    "x3 = tf.placeholder(tf.float32)\n",
    "Y = tf.placeholder(tf.float32)"
   ]
  },
  {
   "cell_type": "code",
   "execution_count": 3,
   "metadata": {
    "collapsed": true
   },
   "outputs": [],
   "source": [
    "# define weight and bias\n",
    "w1 = tf.Variable(tf.random_normal([1]), name='weight1')\n",
    "w2 = tf.Variable(tf.random_normal([1]), name='weight2')\n",
    "w3 = tf.Variable(tf.random_normal([1]), name='weight3')\n",
    "b  = tf.Variable(tf.random_normal([1]), name='bias')"
   ]
  },
  {
   "cell_type": "code",
   "execution_count": 4,
   "metadata": {},
   "outputs": [
    {
     "name": "stdout",
     "output_type": "stream",
     "text": [
      "Tensor(\"add_2:0\", dtype=float32)\n"
     ]
    }
   ],
   "source": [
    "# hypothesis\n",
    "hypothesis = w1*x1 + w2*x2 + w3*x3 + b\n",
    "print(hypothesis)"
   ]
  },
  {
   "cell_type": "code",
   "execution_count": 5,
   "metadata": {
    "collapsed": true
   },
   "outputs": [],
   "source": [
    "# cost(or loss) function\n",
    "cost = tf.reduce_mean(tf.square(hypothesis - Y))"
   ]
  },
  {
   "cell_type": "code",
   "execution_count": 6,
   "metadata": {
    "collapsed": true
   },
   "outputs": [],
   "source": [
    "# Optimizer\n",
    "optimizer = tf.train.GradientDescentOptimizer(learning_rate=1e-5)\n",
    "train = optimizer.minimize(cost)"
   ]
  },
  {
   "cell_type": "code",
   "execution_count": 7,
   "metadata": {
    "collapsed": true
   },
   "outputs": [],
   "source": [
    "# session\n",
    "sess = tf.Session()\n",
    "sess.run(tf.global_variables_initializer())"
   ]
  },
  {
   "cell_type": "code",
   "execution_count": 8,
   "metadata": {
    "scrolled": false
   },
   "outputs": [
    {
     "name": "stdout",
     "output_type": "stream",
     "text": [
      "(0, 'Cost: ', 62547.289, 'Predict: ', array([-75.96344757, -78.27629089, -83.83014679, -90.80435944, -56.97648239], dtype=float32))\n",
      "(100, 'Cost: ', 13.247165, 'Predict: ', array([ 146.06376648,  188.31446838,  178.98654175,  195.37893677,\n",
      "        146.31259155], dtype=float32))\n",
      "(200, 'Cost: ', 12.56214, 'Predict: ', array([ 146.20278931,  188.21931458,  179.02929688,  195.40849304,\n",
      "        146.18890381], dtype=float32))\n",
      "(300, 'Cost: ', 11.913301, 'Predict: ', array([ 146.33810425,  188.12670898,  179.07095337,  195.43722534,\n",
      "        146.068573  ], dtype=float32))\n",
      "(400, 'Cost: ', 11.298648, 'Predict: ', array([ 146.4697876 ,  188.0365448 ,  179.11146545,  195.46513367,\n",
      "        145.95143127], dtype=float32))\n",
      "(500, 'Cost: ', 10.716393, 'Predict: ', array([ 146.59799194,  187.94880676,  179.15092468,  195.49229431,\n",
      "        145.83746338], dtype=float32))\n",
      "(600, 'Cost: ', 10.164846, 'Predict: ', array([ 146.72277832,  187.86340332,  179.18934631,  195.51869202,\n",
      "        145.7265625 ], dtype=float32))\n",
      "(700, 'Cost: ', 9.6423779, 'Predict: ', array([ 146.84425354,  187.7802887 ,  179.22674561,  195.54437256,\n",
      "        145.61865234], dtype=float32))\n",
      "(800, 'Cost: ', 9.14744, 'Predict: ', array([ 146.96246338,  187.69935608,  179.26315308,  195.56930542,\n",
      "        145.51361084], dtype=float32))\n",
      "(900, 'Cost: ', 8.6786041, 'Predict: ', array([ 147.07757568,  187.62060547,  179.29858398,  195.59356689,\n",
      "        145.41145325], dtype=float32))\n",
      "(1000, 'Cost: ', 8.2344923, 'Predict: ', array([ 147.18959045,  187.54394531,  179.33308411,  195.61715698,\n",
      "        145.31201172], dtype=float32))\n",
      "(1100, 'Cost: ', 7.8137712, 'Predict: ', array([ 147.29864502,  187.46932983,  179.3666687 ,  195.64007568,\n",
      "        145.21525574], dtype=float32))\n",
      "(1200, 'Cost: ', 7.4152174, 'Predict: ', array([ 147.40480042,  187.396698  ,  179.39938354,  195.66235352,\n",
      "        145.12110901], dtype=float32))\n",
      "(1300, 'Cost: ', 7.0377045, 'Predict: ', array([ 147.50811768,  187.32600403,  179.43119812,  195.684021  ,\n",
      "        145.02949524], dtype=float32))\n",
      "(1400, 'Cost: ', 6.680027, 'Predict: ', array([ 147.60870361,  187.25717163,  179.46218872,  195.70504761,\n",
      "        144.94033813], dtype=float32))\n",
      "(1500, 'Cost: ', 6.3412638, 'Predict: ', array([ 147.706604  ,  187.19020081,  179.49237061,  195.72554016,\n",
      "        144.85360718], dtype=float32))\n",
      "(1600, 'Cost: ', 6.0203128, 'Predict: ', array([ 147.8019104 ,  187.125     ,  179.52174377,  195.74542236,\n",
      "        144.76919556], dtype=float32))\n",
      "(1700, 'Cost: ', 5.7162881, 'Predict: ', array([ 147.89468384,  187.06155396,  179.55033875,  195.76475525,\n",
      "        144.6870575 ], dtype=float32))\n",
      "(1800, 'Cost: ', 5.4282999, 'Predict: ', array([ 147.98498535,  186.99978638,  179.57817078,  195.78353882,\n",
      "        144.60714722], dtype=float32))\n",
      "(1900, 'Cost: ', 5.1554766, 'Predict: ', array([ 148.07289124,  186.93965149,  179.6053009 ,  195.80180359,\n",
      "        144.52940369], dtype=float32))\n",
      "(2000, 'Cost: ', 4.8970113, 'Predict: ', array([ 148.15844727,  186.88110352,  179.63166809,  195.8195343 ,\n",
      "        144.45372009], dtype=float32))\n"
     ]
    }
   ],
   "source": [
    "for step in range(2001):\n",
    "    cost_val, hy_val, _ = sess.run([cost, hypothesis, train], feed_dict={x1: x1_data, x2: x2_data, x3: x3_data, Y: y_data})\n",
    "    if step % 100 == 0:\n",
    "        print(step, \"Cost: \", cost_val, \"Predict: \", hy_val) # y_data 값에 근사한다."
   ]
  }
 ],
 "metadata": {
  "kernelspec": {
   "display_name": "Python 2",
   "language": "python",
   "name": "python2"
  },
  "language_info": {
   "codemirror_mode": {
    "name": "ipython",
    "version": 2
   },
   "file_extension": ".py",
   "mimetype": "text/x-python",
   "name": "python",
   "nbconvert_exporter": "python",
   "pygments_lexer": "ipython2",
   "version": "2.7.12"
  }
 },
 "nbformat": 4,
 "nbformat_minor": 2
}
