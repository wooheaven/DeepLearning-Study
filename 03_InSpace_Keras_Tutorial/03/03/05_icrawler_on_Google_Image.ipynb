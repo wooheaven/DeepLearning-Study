{
 "cells": [
  {
   "cell_type": "code",
   "execution_count": 1,
   "metadata": {},
   "outputs": [
    {
     "name": "stderr",
     "output_type": "stream",
     "text": [
      "2018-02-02 10:26:58,927 - INFO - icrawler.crawler - start crawling...\n",
      "2018-02-02 10:26:58,928 - INFO - icrawler.crawler - starting 1 feeder threads...\n",
      "2018-02-02 10:26:58,932 - INFO - feeder - thread feeder-001 exit\n",
      "2018-02-02 10:26:58,933 - INFO - icrawler.crawler - starting 2 parser threads...\n",
      "2018-02-02 10:26:58,937 - INFO - icrawler.crawler - starting 4 downloader threads...\n",
      "2018-02-02 10:27:00,082 - INFO - parser - parsing result page https://www.google.com/search?start=0&lr=&ijn=0&tbs=cdr%3A1%2Ccd_min%3A%2Ccd_max%3A%2Csur%3A%2Citp%3A%2Cic%3A%2Cisc%3A&tbm=isch&q=cat\n",
      "2018-02-02 10:27:00,459 - INFO - downloader - image #1\thttps://static.pexels.com/photos/104827/cat-pet-animal-domestic-104827.jpeg\n",
      "2018-02-02 10:27:00,530 - INFO - downloader - image #2\thttp://www.readersdigest.ca/wp-content/uploads/2011/01/4-ways-cheer-up-depressed-cat.jpg\n",
      "2018-02-02 10:27:00,937 - INFO - parser - no more page urls for thread parser-002 to parse\n",
      "2018-02-02 10:27:00,941 - INFO - parser - thread parser-002 exit\n",
      "2018-02-02 10:27:01,054 - INFO - downloader - image #3\thttp://www.prestigeanimalhospital.com/sites/default/files/08-cat-cancer-4.jpeg\n",
      "2018-02-02 10:27:01,521 - INFO - downloader - image #4\thttps://upload.wikimedia.org/wikipedia/commons/thumb/3/3a/Cat03.jpg/1200px-Cat03.jpg\n",
      "2018-02-02 10:27:01,617 - INFO - downloader - image #5\thttps://news.nationalgeographic.com/content/dam/news/photos/000/755/75552.ngsversion.1422285553360.adapt.1900.1.jpg\n",
      "2018-02-02 10:27:01,640 - INFO - downloader - downloaded images reach max num, thread downloader-002 is ready to exit\n",
      "2018-02-02 10:27:01,644 - INFO - downloader - thread downloader-002 exit\n",
      "2018-02-02 10:27:02,097 - INFO - downloader - downloaded images reach max num, thread downloader-004 is ready to exit\n",
      "2018-02-02 10:27:02,098 - INFO - downloader - thread downloader-004 exit\n",
      "2018-02-02 10:27:02,521 - INFO - downloader - downloaded images reach max num, thread downloader-003 is ready to exit\n",
      "2018-02-02 10:27:02,525 - INFO - downloader - thread downloader-003 exit\n",
      "2018-02-02 10:27:03,463 - INFO - downloader - downloaded images reach max num, thread downloader-001 is ready to exit\n",
      "2018-02-02 10:27:03,465 - INFO - downloader - thread downloader-001 exit\n",
      "2018-02-02 10:27:03,630 - INFO - parser - downloaded image reached max num, thread parser-001 is ready to exit\n",
      "2018-02-02 10:27:03,631 - INFO - parser - thread parser-001 exit\n",
      "2018-02-02 10:27:03,953 - INFO - icrawler.crawler - Crawling task done!\n",
      "2018-02-02 10:27:03,968 - INFO - icrawler.crawler - start crawling...\n",
      "2018-02-02 10:27:03,974 - INFO - icrawler.crawler - starting 1 feeder threads...\n",
      "2018-02-02 10:27:03,977 - INFO - feeder - thread feeder-001 exit\n",
      "2018-02-02 10:27:03,979 - INFO - icrawler.crawler - starting 2 parser threads...\n",
      "2018-02-02 10:27:03,985 - INFO - icrawler.crawler - starting 4 downloader threads...\n",
      "2018-02-02 10:27:04,964 - INFO - parser - parsing result page https://www.google.com/search?start=0&lr=&ijn=0&tbs=cdr%3A1%2Ccd_min%3A%2Ccd_max%3A%2Csur%3A%2Citp%3A%2Cic%3A%2Cisc%3A&tbm=isch&q=dog\n",
      "2018-02-02 10:27:05,205 - INFO - downloader - image #1\thttps://i.ytimg.com/vi/SfLV8hD7zX4/maxresdefault.jpg\n",
      "2018-02-02 10:27:05,868 - INFO - downloader - image #2\thttps://www.nationalgeographic.com/content/dam/animals/thumbs/rights-exempt/mammals/d/domestic-dog_thumb.jpg\n",
      "2018-02-02 10:27:05,980 - INFO - downloader - image #3\thttp://www.dogbazar.org/wp-content/uploads/2014/09/british-bull-dog-puppies.jpg\n",
      "2018-02-02 10:27:05,987 - INFO - parser - no more page urls for thread parser-002 to parse\n",
      "2018-02-02 10:27:05,988 - INFO - parser - thread parser-002 exit\n",
      "2018-02-02 10:27:06,044 - INFO - downloader - image #4\thttps://s7d2.scene7.com/is/image/PetSmart/PB1201_STORY_CARO-Authority-HealthyOutside-DOG-20160818?$PB1201$\n",
      "2018-02-02 10:27:06,468 - INFO - downloader - image #5\thttps://static.pexels.com/photos/356378/pexels-photo-356378.jpeg\n",
      "2018-02-02 10:27:06,686 - INFO - downloader - downloaded images reach max num, thread downloader-002 is ready to exit\n",
      "2018-02-02 10:27:06,687 - INFO - downloader - thread downloader-002 exit\n",
      "2018-02-02 10:27:06,955 - INFO - downloader - downloaded images reach max num, thread downloader-003 is ready to exit\n",
      "2018-02-02 10:27:06,957 - INFO - downloader - thread downloader-003 exit\n",
      "2018-02-02 10:27:07,091 - INFO - downloader - downloaded images reach max num, thread downloader-001 is ready to exit\n",
      "2018-02-02 10:27:07,091 - INFO - downloader - thread downloader-001 exit\n",
      "2018-02-02 10:27:07,147 - INFO - downloader - downloaded images reach max num, thread downloader-004 is ready to exit\n",
      "2018-02-02 10:27:07,148 - INFO - downloader - thread downloader-004 exit\n",
      "2018-02-02 10:27:07,997 - INFO - icrawler.crawler - Crawling task done!\n",
      "2018-02-02 10:27:08,490 - INFO - parser - downloaded image reached max num, thread parser-001 is ready to exit\n",
      "2018-02-02 10:27:08,491 - INFO - parser - thread parser-001 exit\n"
     ]
    }
   ],
   "source": [
    "from icrawler.builtin import GoogleImageCrawler\n",
    "\n",
    "for keyword in ['cat', 'dog']:\n",
    "    google_crawler = GoogleImageCrawler(\n",
    "        parser_threads=2,\n",
    "        downloader_threads=4,\n",
    "        storage={'root_dir': 'images/{}'.format(keyword)}\n",
    "    )\n",
    "    google_crawler.crawl(\n",
    "        keyword=keyword, max_num=5, min_size=(500, 500))"
   ]
  }
 ],
 "metadata": {
  "kernelspec": {
   "display_name": "Python 3",
   "language": "python",
   "name": "python3"
  },
  "language_info": {
   "codemirror_mode": {
    "name": "ipython",
    "version": 3
   },
   "file_extension": ".py",
   "mimetype": "text/x-python",
   "name": "python",
   "nbconvert_exporter": "python",
   "pygments_lexer": "ipython3",
   "version": "3.5.2"
  }
 },
 "nbformat": 4,
 "nbformat_minor": 2
}
