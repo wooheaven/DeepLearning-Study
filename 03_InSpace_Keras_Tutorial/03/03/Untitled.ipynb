{
 "cells": [
  {
   "cell_type": "code",
   "execution_count": 1,
   "metadata": {},
   "outputs": [
    {
     "name": "stderr",
     "output_type": "stream",
     "text": [
      "Using TensorFlow backend.\n"
     ]
    }
   ],
   "source": [
    "# 1 문제 정의하고, 패키지 준비하고, 랜덤 시드 지정하기\n",
    "import numpy as np\n",
    "from keras.models import Sequential\n",
    "from keras.layers import Dense\n",
    "from keras.layers import Flatten\n",
    "from keras.layers.convolutional import Conv2D\n",
    "from keras.layers.convolutional import MaxPooling2D\n",
    "from keras.preprocessing.image import ImageDataGenerator\n",
    "\n",
    "# 랜덤 시드 지정하기\n",
    "np.random.seed(3)"
   ]
  },
  {
   "cell_type": "code",
   "execution_count": 3,
   "metadata": {},
   "outputs": [
    {
     "name": "stdout",
     "output_type": "stream",
     "text": [
      "Found 120 images belonging to 2 classes.\n",
      "Found 40 images belonging to 2 classes.\n",
      "Found 40 images belonging to 2 classes.\n"
     ]
    }
   ],
   "source": [
    "# 2 데이터 준비하기\n",
    "# icrawler\n",
    "\n",
    "# 3 데이터셋 생성하기\n",
    "# ImageDataGenerator 클래스의 flow_from_directory 함수를 이용해서 데이터셋을 만든다.\n",
    "\n",
    "train_datagen = ImageDataGenerator(rescale=1./255)\n",
    "train_generator = train_datagen.flow_from_directory(\n",
    "        'warehouse/cat_dog/train',\n",
    "        target_size=(24, 24),\n",
    "        batch_size=4,\n",
    "        class_mode='categorical')\n",
    "\n",
    "val_datagen = ImageDataGenerator(rescale=1./255)\n",
    "val_generator = val_datagen.flow_from_directory(\n",
    "        'warehouse/cat_dog/test',\n",
    "        target_size=(24, 24),    \n",
    "        batch_size=4,\n",
    "        class_mode='categorical')\n",
    "\n",
    "test_datagen = ImageDataGenerator(rescale=1./255)\n",
    "test_generator = test_datagen.flow_from_directory(\n",
    "        'warehouse/cat_dog/test',\n",
    "        target_size=(24, 24),    \n",
    "        batch_size=4,\n",
    "        class_mode='categorical')"
   ]
  },
  {
   "cell_type": "code",
   "execution_count": 15,
   "metadata": {},
   "outputs": [],
   "source": [
    "# 4 모델 구성하기\n",
    "# Conv Layer : 입력 이미지 크기 24 x 24, 입력 이미지 채널 3개, 필터 크기 3 x 3, 필터 수 64개, 활성화 함수 ‘relu’\n",
    "# Conv Layer : 필터 크기 3 x 3, 필터 수 128개, 활성화 함수 ‘relu’\n",
    "# MaxPooling Layer : 풀 크기 2 x 2\n",
    "# Flatten\n",
    "# Dense Layer : 출력 뉴런 수 256개, 활성화 함수 ‘relu’\n",
    "# Dense Layer : 출력 뉴런 수 3개, 활성화 함수 ‘softmax’\n",
    "\n",
    "model = Sequential()\n",
    "\n",
    "model.add(Conv2D(filters=64, kernel_size=(3, 3), activation='relu', input_shape=(24, 24, 3))) # padding default = valid\n",
    "model.add(Conv2D(filters=128, kernel_size=(3, 3), activation='relu')) \n",
    "model.add(MaxPooling2D(pool_size=(2, 2)))\n",
    "model.add(Flatten())\n",
    "model.add(Dense(256, activation='relu'))\n",
    "model.add(Dense(2, activation='softmax'))"
   ]
  },
  {
   "cell_type": "code",
   "execution_count": 16,
   "metadata": {},
   "outputs": [
    {
     "data": {
      "image/svg+xml": [
       "<svg height=\"553pt\" viewBox=\"0.00 0.00 485.00 553.00\" width=\"485pt\" xmlns=\"http://www.w3.org/2000/svg\" xmlns:xlink=\"http://www.w3.org/1999/xlink\">\n",
       "<g class=\"graph\" id=\"graph0\" transform=\"scale(1 1) rotate(0) translate(4 549)\">\n",
       "<title>G</title>\n",
       "<polygon fill=\"white\" points=\"-4,4 -4,-549 481,-549 481,4 -4,4\" stroke=\"none\"/>\n",
       "<!-- 140681044987632 -->\n",
       "<g class=\"node\" id=\"node1\"><title>140681044987632</title>\n",
       "<polygon fill=\"none\" points=\"26.5,-498.5 26.5,-544.5 450.5,-544.5 450.5,-498.5 26.5,-498.5\" stroke=\"black\"/>\n",
       "<text font-family=\"Times,serif\" font-size=\"14.00\" text-anchor=\"middle\" x=\"136\" y=\"-517.8\">conv2d_5_input: InputLayer</text>\n",
       "<polyline fill=\"none\" points=\"245.5,-498.5 245.5,-544.5 \" stroke=\"black\"/>\n",
       "<text font-family=\"Times,serif\" font-size=\"14.00\" text-anchor=\"middle\" x=\"279.5\" y=\"-529.3\">input:</text>\n",
       "<polyline fill=\"none\" points=\"245.5,-521.5 313.5,-521.5 \" stroke=\"black\"/>\n",
       "<text font-family=\"Times,serif\" font-size=\"14.00\" text-anchor=\"middle\" x=\"279.5\" y=\"-506.3\">output:</text>\n",
       "<polyline fill=\"none\" points=\"313.5,-498.5 313.5,-544.5 \" stroke=\"black\"/>\n",
       "<text font-family=\"Times,serif\" font-size=\"14.00\" text-anchor=\"middle\" x=\"382\" y=\"-529.3\">(None, 24, 24, 3)</text>\n",
       "<polyline fill=\"none\" points=\"313.5,-521.5 450.5,-521.5 \" stroke=\"black\"/>\n",
       "<text font-family=\"Times,serif\" font-size=\"14.00\" text-anchor=\"middle\" x=\"382\" y=\"-506.3\">(None, 24, 24, 3)</text>\n",
       "</g>\n",
       "<!-- 140681044986624 -->\n",
       "<g class=\"node\" id=\"node2\"><title>140681044986624</title>\n",
       "<polygon fill=\"none\" points=\"56,-415.5 56,-461.5 421,-461.5 421,-415.5 56,-415.5\" stroke=\"black\"/>\n",
       "<text font-family=\"Times,serif\" font-size=\"14.00\" text-anchor=\"middle\" x=\"131.5\" y=\"-434.8\">conv2d_5: Conv2D</text>\n",
       "<polyline fill=\"none\" points=\"207,-415.5 207,-461.5 \" stroke=\"black\"/>\n",
       "<text font-family=\"Times,serif\" font-size=\"14.00\" text-anchor=\"middle\" x=\"241\" y=\"-446.3\">input:</text>\n",
       "<polyline fill=\"none\" points=\"207,-438.5 275,-438.5 \" stroke=\"black\"/>\n",
       "<text font-family=\"Times,serif\" font-size=\"14.00\" text-anchor=\"middle\" x=\"241\" y=\"-423.3\">output:</text>\n",
       "<polyline fill=\"none\" points=\"275,-415.5 275,-461.5 \" stroke=\"black\"/>\n",
       "<text font-family=\"Times,serif\" font-size=\"14.00\" text-anchor=\"middle\" x=\"348\" y=\"-446.3\">(None, 24, 24, 3)</text>\n",
       "<polyline fill=\"none\" points=\"275,-438.5 421,-438.5 \" stroke=\"black\"/>\n",
       "<text font-family=\"Times,serif\" font-size=\"14.00\" text-anchor=\"middle\" x=\"348\" y=\"-423.3\">(None, 22, 22, 64)</text>\n",
       "</g>\n",
       "<!-- 140681044987632&#45;&gt;140681044986624 -->\n",
       "<g class=\"edge\" id=\"edge1\"><title>140681044987632-&gt;140681044986624</title>\n",
       "<path d=\"M238.5,-498.366C238.5,-490.152 238.5,-480.658 238.5,-471.725\" fill=\"none\" stroke=\"black\"/>\n",
       "<polygon fill=\"black\" points=\"242,-471.607 238.5,-461.607 235,-471.607 242,-471.607\" stroke=\"black\"/>\n",
       "</g>\n",
       "<!-- 140681044986568 -->\n",
       "<g class=\"node\" id=\"node3\"><title>140681044986568</title>\n",
       "<polygon fill=\"none\" points=\"51.5,-332.5 51.5,-378.5 425.5,-378.5 425.5,-332.5 51.5,-332.5\" stroke=\"black\"/>\n",
       "<text font-family=\"Times,serif\" font-size=\"14.00\" text-anchor=\"middle\" x=\"127\" y=\"-351.8\">conv2d_6: Conv2D</text>\n",
       "<polyline fill=\"none\" points=\"202.5,-332.5 202.5,-378.5 \" stroke=\"black\"/>\n",
       "<text font-family=\"Times,serif\" font-size=\"14.00\" text-anchor=\"middle\" x=\"236.5\" y=\"-363.3\">input:</text>\n",
       "<polyline fill=\"none\" points=\"202.5,-355.5 270.5,-355.5 \" stroke=\"black\"/>\n",
       "<text font-family=\"Times,serif\" font-size=\"14.00\" text-anchor=\"middle\" x=\"236.5\" y=\"-340.3\">output:</text>\n",
       "<polyline fill=\"none\" points=\"270.5,-332.5 270.5,-378.5 \" stroke=\"black\"/>\n",
       "<text font-family=\"Times,serif\" font-size=\"14.00\" text-anchor=\"middle\" x=\"348\" y=\"-363.3\">(None, 22, 22, 64)</text>\n",
       "<polyline fill=\"none\" points=\"270.5,-355.5 425.5,-355.5 \" stroke=\"black\"/>\n",
       "<text font-family=\"Times,serif\" font-size=\"14.00\" text-anchor=\"middle\" x=\"348\" y=\"-340.3\">(None, 20, 20, 128)</text>\n",
       "</g>\n",
       "<!-- 140681044986624&#45;&gt;140681044986568 -->\n",
       "<g class=\"edge\" id=\"edge2\"><title>140681044986624-&gt;140681044986568</title>\n",
       "<path d=\"M238.5,-415.366C238.5,-407.152 238.5,-397.658 238.5,-388.725\" fill=\"none\" stroke=\"black\"/>\n",
       "<polygon fill=\"black\" points=\"242,-388.607 238.5,-378.607 235,-388.607 242,-388.607\" stroke=\"black\"/>\n",
       "</g>\n",
       "<!-- 140681045017712 -->\n",
       "<g class=\"node\" id=\"node4\"><title>140681045017712</title>\n",
       "<polygon fill=\"none\" points=\"0,-249.5 0,-295.5 477,-295.5 477,-249.5 0,-249.5\" stroke=\"black\"/>\n",
       "<text font-family=\"Times,serif\" font-size=\"14.00\" text-anchor=\"middle\" x=\"127\" y=\"-268.8\">max_pooling2d_3: MaxPooling2D</text>\n",
       "<polyline fill=\"none\" points=\"254,-249.5 254,-295.5 \" stroke=\"black\"/>\n",
       "<text font-family=\"Times,serif\" font-size=\"14.00\" text-anchor=\"middle\" x=\"288\" y=\"-280.3\">input:</text>\n",
       "<polyline fill=\"none\" points=\"254,-272.5 322,-272.5 \" stroke=\"black\"/>\n",
       "<text font-family=\"Times,serif\" font-size=\"14.00\" text-anchor=\"middle\" x=\"288\" y=\"-257.3\">output:</text>\n",
       "<polyline fill=\"none\" points=\"322,-249.5 322,-295.5 \" stroke=\"black\"/>\n",
       "<text font-family=\"Times,serif\" font-size=\"14.00\" text-anchor=\"middle\" x=\"399.5\" y=\"-280.3\">(None, 20, 20, 128)</text>\n",
       "<polyline fill=\"none\" points=\"322,-272.5 477,-272.5 \" stroke=\"black\"/>\n",
       "<text font-family=\"Times,serif\" font-size=\"14.00\" text-anchor=\"middle\" x=\"399.5\" y=\"-257.3\">(None, 10, 10, 128)</text>\n",
       "</g>\n",
       "<!-- 140681044986568&#45;&gt;140681045017712 -->\n",
       "<g class=\"edge\" id=\"edge3\"><title>140681044986568-&gt;140681045017712</title>\n",
       "<path d=\"M238.5,-332.366C238.5,-324.152 238.5,-314.658 238.5,-305.725\" fill=\"none\" stroke=\"black\"/>\n",
       "<polygon fill=\"black\" points=\"242,-305.607 238.5,-295.607 235,-305.607 242,-305.607\" stroke=\"black\"/>\n",
       "</g>\n",
       "<!-- 140681044552840 -->\n",
       "<g class=\"node\" id=\"node5\"><title>140681044552840</title>\n",
       "<polygon fill=\"none\" points=\"57,-166.5 57,-212.5 420,-212.5 420,-166.5 57,-166.5\" stroke=\"black\"/>\n",
       "<text font-family=\"Times,serif\" font-size=\"14.00\" text-anchor=\"middle\" x=\"127\" y=\"-185.8\">flatten_3: Flatten</text>\n",
       "<polyline fill=\"none\" points=\"197,-166.5 197,-212.5 \" stroke=\"black\"/>\n",
       "<text font-family=\"Times,serif\" font-size=\"14.00\" text-anchor=\"middle\" x=\"231\" y=\"-197.3\">input:</text>\n",
       "<polyline fill=\"none\" points=\"197,-189.5 265,-189.5 \" stroke=\"black\"/>\n",
       "<text font-family=\"Times,serif\" font-size=\"14.00\" text-anchor=\"middle\" x=\"231\" y=\"-174.3\">output:</text>\n",
       "<polyline fill=\"none\" points=\"265,-166.5 265,-212.5 \" stroke=\"black\"/>\n",
       "<text font-family=\"Times,serif\" font-size=\"14.00\" text-anchor=\"middle\" x=\"342.5\" y=\"-197.3\">(None, 10, 10, 128)</text>\n",
       "<polyline fill=\"none\" points=\"265,-189.5 420,-189.5 \" stroke=\"black\"/>\n",
       "<text font-family=\"Times,serif\" font-size=\"14.00\" text-anchor=\"middle\" x=\"342.5\" y=\"-174.3\">(None, 12800)</text>\n",
       "</g>\n",
       "<!-- 140681045017712&#45;&gt;140681044552840 -->\n",
       "<g class=\"edge\" id=\"edge4\"><title>140681045017712-&gt;140681044552840</title>\n",
       "<path d=\"M238.5,-249.366C238.5,-241.152 238.5,-231.658 238.5,-222.725\" fill=\"none\" stroke=\"black\"/>\n",
       "<polygon fill=\"black\" points=\"242,-222.607 238.5,-212.607 235,-222.607 242,-222.607\" stroke=\"black\"/>\n",
       "</g>\n",
       "<!-- 140681044543976 -->\n",
       "<g class=\"node\" id=\"node6\"><title>140681044543976</title>\n",
       "<polygon fill=\"none\" points=\"81,-83.5 81,-129.5 396,-129.5 396,-83.5 81,-83.5\" stroke=\"black\"/>\n",
       "<text font-family=\"Times,serif\" font-size=\"14.00\" text-anchor=\"middle\" x=\"145\" y=\"-102.8\">dense_5: Dense</text>\n",
       "<polyline fill=\"none\" points=\"209,-83.5 209,-129.5 \" stroke=\"black\"/>\n",
       "<text font-family=\"Times,serif\" font-size=\"14.00\" text-anchor=\"middle\" x=\"243\" y=\"-114.3\">input:</text>\n",
       "<polyline fill=\"none\" points=\"209,-106.5 277,-106.5 \" stroke=\"black\"/>\n",
       "<text font-family=\"Times,serif\" font-size=\"14.00\" text-anchor=\"middle\" x=\"243\" y=\"-91.3\">output:</text>\n",
       "<polyline fill=\"none\" points=\"277,-83.5 277,-129.5 \" stroke=\"black\"/>\n",
       "<text font-family=\"Times,serif\" font-size=\"14.00\" text-anchor=\"middle\" x=\"336.5\" y=\"-114.3\">(None, 12800)</text>\n",
       "<polyline fill=\"none\" points=\"277,-106.5 396,-106.5 \" stroke=\"black\"/>\n",
       "<text font-family=\"Times,serif\" font-size=\"14.00\" text-anchor=\"middle\" x=\"336.5\" y=\"-91.3\">(None, 256)</text>\n",
       "</g>\n",
       "<!-- 140681044552840&#45;&gt;140681044543976 -->\n",
       "<g class=\"edge\" id=\"edge5\"><title>140681044552840-&gt;140681044543976</title>\n",
       "<path d=\"M238.5,-166.366C238.5,-158.152 238.5,-148.658 238.5,-139.725\" fill=\"none\" stroke=\"black\"/>\n",
       "<polygon fill=\"black\" points=\"242,-139.607 238.5,-129.607 235,-139.607 242,-139.607\" stroke=\"black\"/>\n",
       "</g>\n",
       "<!-- 140681044441744 -->\n",
       "<g class=\"node\" id=\"node7\"><title>140681044441744</title>\n",
       "<polygon fill=\"none\" points=\"90,-0.5 90,-46.5 387,-46.5 387,-0.5 90,-0.5\" stroke=\"black\"/>\n",
       "<text font-family=\"Times,serif\" font-size=\"14.00\" text-anchor=\"middle\" x=\"154\" y=\"-19.8\">dense_6: Dense</text>\n",
       "<polyline fill=\"none\" points=\"218,-0.5 218,-46.5 \" stroke=\"black\"/>\n",
       "<text font-family=\"Times,serif\" font-size=\"14.00\" text-anchor=\"middle\" x=\"252\" y=\"-31.3\">input:</text>\n",
       "<polyline fill=\"none\" points=\"218,-23.5 286,-23.5 \" stroke=\"black\"/>\n",
       "<text font-family=\"Times,serif\" font-size=\"14.00\" text-anchor=\"middle\" x=\"252\" y=\"-8.3\">output:</text>\n",
       "<polyline fill=\"none\" points=\"286,-0.5 286,-46.5 \" stroke=\"black\"/>\n",
       "<text font-family=\"Times,serif\" font-size=\"14.00\" text-anchor=\"middle\" x=\"336.5\" y=\"-31.3\">(None, 256)</text>\n",
       "<polyline fill=\"none\" points=\"286,-23.5 387,-23.5 \" stroke=\"black\"/>\n",
       "<text font-family=\"Times,serif\" font-size=\"14.00\" text-anchor=\"middle\" x=\"336.5\" y=\"-8.3\">(None, 2)</text>\n",
       "</g>\n",
       "<!-- 140681044543976&#45;&gt;140681044441744 -->\n",
       "<g class=\"edge\" id=\"edge6\"><title>140681044543976-&gt;140681044441744</title>\n",
       "<path d=\"M238.5,-83.3664C238.5,-75.1516 238.5,-65.6579 238.5,-56.7252\" fill=\"none\" stroke=\"black\"/>\n",
       "<polygon fill=\"black\" points=\"242,-56.6068 238.5,-46.6068 235,-56.6069 242,-56.6068\" stroke=\"black\"/>\n",
       "</g>\n",
       "</g>\n",
       "</svg>"
      ],
      "text/plain": [
       "<IPython.core.display.SVG object>"
      ]
     },
     "execution_count": 16,
     "metadata": {},
     "output_type": "execute_result"
    }
   ],
   "source": [
    "from IPython.display import SVG\n",
    "from keras.utils.vis_utils import model_to_dot\n",
    "\n",
    "%matplotlib inline\n",
    "\n",
    "SVG(model_to_dot(model, show_shapes=True).create(prog='dot', format='svg'))"
   ]
  },
  {
   "cell_type": "code",
   "execution_count": 17,
   "metadata": {},
   "outputs": [],
   "source": [
    "# 5 모델 학습과정 설정하기\n",
    "model.compile(loss='categorical_crossentropy', optimizer='adam', metrics=['accuracy'])"
   ]
  },
  {
   "cell_type": "code",
   "execution_count": 18,
   "metadata": {},
   "outputs": [
    {
     "name": "stdout",
     "output_type": "stream",
     "text": [
      "Epoch 1/30\n",
      "30/30 [==============================] - 11s 361ms/step - loss: 0.7841 - acc: 0.5083 - val_loss: 0.6937 - val_acc: 0.5000\n",
      "Epoch 2/30\n",
      "30/30 [==============================] - 9s 295ms/step - loss: 0.7131 - acc: 0.5833 - val_loss: 0.6880 - val_acc: 0.5500\n",
      "Epoch 3/30\n",
      "30/30 [==============================] - 8s 283ms/step - loss: 0.6709 - acc: 0.6167 - val_loss: 0.6894 - val_acc: 0.5000\n",
      "Epoch 4/30\n",
      "30/30 [==============================] - 9s 292ms/step - loss: 0.5143 - acc: 0.7500 - val_loss: 0.7940 - val_acc: 0.5000\n",
      "Epoch 5/30\n",
      "30/30 [==============================] - 9s 287ms/step - loss: 0.4216 - acc: 0.8250 - val_loss: 0.7748 - val_acc: 0.5250\n",
      "Epoch 6/30\n",
      "30/30 [==============================] - 9s 291ms/step - loss: 0.2763 - acc: 0.8917 - val_loss: 1.4383 - val_acc: 0.5250\n",
      "Epoch 7/30\n",
      "30/30 [==============================] - 9s 310ms/step - loss: 0.1662 - acc: 0.9583 - val_loss: 1.4137 - val_acc: 0.5750\n",
      "Epoch 8/30\n",
      "30/30 [==============================] - 9s 308ms/step - loss: 0.1509 - acc: 0.9417 - val_loss: 1.8130 - val_acc: 0.5500\n",
      "Epoch 9/30\n",
      "30/30 [==============================] - 9s 295ms/step - loss: 0.0638 - acc: 0.9917 - val_loss: 2.0438 - val_acc: 0.5750\n",
      "Epoch 10/30\n",
      "30/30 [==============================] - 9s 315ms/step - loss: 0.0126 - acc: 1.0000 - val_loss: 2.8593 - val_acc: 0.5500\n",
      "Epoch 11/30\n",
      "30/30 [==============================] - 9s 299ms/step - loss: 0.0083 - acc: 1.0000 - val_loss: 2.6019 - val_acc: 0.5750\n",
      "Epoch 12/30\n",
      "30/30 [==============================] - 9s 311ms/step - loss: 0.0154 - acc: 0.9917 - val_loss: 2.6047 - val_acc: 0.5500\n",
      "Epoch 13/30\n",
      "30/30 [==============================] - 9s 298ms/step - loss: 0.0276 - acc: 0.9917 - val_loss: 3.3479 - val_acc: 0.5500\n",
      "Epoch 14/30\n",
      "30/30 [==============================] - 9s 297ms/step - loss: 0.0091 - acc: 1.0000 - val_loss: 3.0345 - val_acc: 0.5000\n",
      "Epoch 15/30\n",
      "30/30 [==============================] - 9s 314ms/step - loss: 0.0017 - acc: 1.0000 - val_loss: 3.1344 - val_acc: 0.5500\n",
      "Epoch 16/30\n",
      "30/30 [==============================] - 11s 357ms/step - loss: 5.9716e-04 - acc: 1.0000 - val_loss: 3.2089 - val_acc: 0.5500\n",
      "Epoch 17/30\n",
      "30/30 [==============================] - 9s 303ms/step - loss: 4.0202e-04 - acc: 1.0000 - val_loss: 3.2245 - val_acc: 0.5500\n",
      "Epoch 18/30\n",
      "30/30 [==============================] - 9s 304ms/step - loss: 3.1030e-04 - acc: 1.0000 - val_loss: 3.2608 - val_acc: 0.5500\n",
      "Epoch 19/30\n",
      "30/30 [==============================] - 9s 295ms/step - loss: 2.4884e-04 - acc: 1.0000 - val_loss: 3.2940 - val_acc: 0.5500\n",
      "Epoch 20/30\n",
      "30/30 [==============================] - 9s 302ms/step - loss: 1.9264e-04 - acc: 1.0000 - val_loss: 3.3124 - val_acc: 0.5500\n",
      "Epoch 21/30\n",
      "30/30 [==============================] - 9s 307ms/step - loss: 1.6417e-04 - acc: 1.0000 - val_loss: 3.3352 - val_acc: 0.5500\n",
      "Epoch 22/30\n",
      "30/30 [==============================] - 10s 322ms/step - loss: 1.4198e-04 - acc: 1.0000 - val_loss: 3.3518 - val_acc: 0.5500\n",
      "Epoch 23/30\n",
      "30/30 [==============================] - 10s 336ms/step - loss: 1.2456e-04 - acc: 1.0000 - val_loss: 3.3569 - val_acc: 0.5500\n",
      "Epoch 24/30\n",
      "30/30 [==============================] - 9s 304ms/step - loss: 1.1145e-04 - acc: 1.0000 - val_loss: 3.3640 - val_acc: 0.5500\n",
      "Epoch 25/30\n",
      "30/30 [==============================] - 9s 308ms/step - loss: 1.0088e-04 - acc: 1.0000 - val_loss: 3.3783 - val_acc: 0.5500\n",
      "Epoch 26/30\n",
      "30/30 [==============================] - 9s 310ms/step - loss: 9.0082e-05 - acc: 1.0000 - val_loss: 3.3806 - val_acc: 0.5500\n",
      "Epoch 27/30\n",
      "30/30 [==============================] - 9s 313ms/step - loss: 8.2973e-05 - acc: 1.0000 - val_loss: 3.3878 - val_acc: 0.5500\n",
      "Epoch 28/30\n",
      "30/30 [==============================] - 10s 318ms/step - loss: 7.5978e-05 - acc: 1.0000 - val_loss: 3.3921 - val_acc: 0.5500\n",
      "Epoch 29/30\n",
      "30/30 [==============================] - 9s 299ms/step - loss: 7.0557e-05 - acc: 1.0000 - val_loss: 3.3957 - val_acc: 0.5500\n",
      "Epoch 30/30\n",
      "30/30 [==============================] - 9s 307ms/step - loss: 6.4818e-05 - acc: 1.0000 - val_loss: 3.4048 - val_acc: 0.5750\n"
     ]
    },
    {
     "data": {
      "text/plain": [
       "<keras.callbacks.History at 0x7ff3103eb668>"
      ]
     },
     "execution_count": 18,
     "metadata": {},
     "output_type": "execute_result"
    }
   ],
   "source": [
    "# 6 모델 학습시키기\n",
    "# generator = 훈련데이터를 제공한다\n",
    "# steps_per_epoch = 한 epoch에서 사용할 step count 이다. 120개의 훈련 데이터가 있고, batch_size = 4 이므로 120/4 = 30 로 정한다.\n",
    "# validation_data = 검증데이터를 제공한다.\n",
    "# validation_steps = 한 epoch 종료 시 마다 검증할 때 사용되는 검증 스텝 수를 지정한다. 40개의 검증 데이터가 있고 batch_size = 4 이므로 40/4 = 10으로 정한다.\n",
    "model.fit_generator(\n",
    "    generator=train_generator,\n",
    "    steps_per_epoch=30,\n",
    "    epochs=30,\n",
    "    validation_data=val_generator,\n",
    "    validation_steps=10)"
   ]
  },
  {
   "cell_type": "code",
   "execution_count": 19,
   "metadata": {},
   "outputs": [
    {
     "name": "stdout",
     "output_type": "stream",
     "text": [
      "-- Evaluate --\n",
      "acc: 57.50%\n"
     ]
    }
   ],
   "source": [
    "# 7 모델 평가하기\n",
    "\n",
    "print(\"-- Evaluate --\")\n",
    "scores = model.evaluate_generator(test_generator, steps=10)\n",
    "print(\"%s: %.2f%%\" %(model.metrics_names[1], scores[1]*100))"
   ]
  },
  {
   "cell_type": "code",
   "execution_count": 22,
   "metadata": {},
   "outputs": [
    {
     "name": "stdout",
     "output_type": "stream",
     "text": [
      "-- Predict --\n",
      "{'dog': 1, 'cat': 0}\n",
      "[[0.999 0.001]\n",
      " [0.000 1.000]\n",
      " [0.001 0.999]\n",
      " [0.000 1.000]\n",
      " [0.003 0.997]\n",
      " [0.000 1.000]\n",
      " [0.985 0.015]\n",
      " [1.000 0.000]\n",
      " [0.000 1.000]\n",
      " [0.516 0.484]\n",
      " [0.156 0.844]\n",
      " [0.998 0.002]\n",
      " [0.971 0.029]\n",
      " [0.003 0.997]\n",
      " [0.000 1.000]\n",
      " [0.000 1.000]\n",
      " [0.239 0.761]\n",
      " [0.263 0.737]\n",
      " [1.000 0.000]\n",
      " [0.877 0.123]\n",
      " [0.000 1.000]\n",
      " [1.000 0.000]\n",
      " [0.000 1.000]\n",
      " [1.000 0.000]\n",
      " [0.876 0.124]\n",
      " [0.973 0.027]\n",
      " [0.947 0.053]\n",
      " [0.999 0.001]\n",
      " [1.000 0.000]\n",
      " [0.968 0.032]\n",
      " [1.000 0.000]\n",
      " [0.168 0.832]\n",
      " [0.922 0.078]\n",
      " [0.201 0.799]\n",
      " [0.002 0.998]\n",
      " [0.191 0.809]\n",
      " [0.032 0.968]\n",
      " [0.990 0.010]\n",
      " [1.000 0.000]\n",
      " [0.986 0.014]]\n"
     ]
    }
   ],
   "source": [
    "# 8 모델 사용하기\n",
    "\n",
    "print(\"-- Predict --\")\n",
    "output = model.predict_generator(test_generator, steps=10)\n",
    "np.set_printoptions(formatter={'float': lambda x: \"{0:0.3f}\".format(x)})\n",
    "\n",
    "print(test_generator.class_indices)\n",
    "print(output)"
   ]
  },
  {
   "cell_type": "code",
   "execution_count": null,
   "metadata": {},
   "outputs": [],
   "source": [
    "output.flow_from_directory(directory=images_path, target_size=(480,752),color_mode='grayscale', class_mode=None, save_to_dir='saved',save_prefix='keras_')"
   ]
  }
 ],
 "metadata": {
  "kernelspec": {
   "display_name": "Python 3",
   "language": "python",
   "name": "python3"
  },
  "language_info": {
   "codemirror_mode": {
    "name": "ipython",
    "version": 3
   },
   "file_extension": ".py",
   "mimetype": "text/x-python",
   "name": "python",
   "nbconvert_exporter": "python",
   "pygments_lexer": "ipython3",
   "version": "3.5.2"
  }
 },
 "nbformat": 4,
 "nbformat_minor": 2
}
