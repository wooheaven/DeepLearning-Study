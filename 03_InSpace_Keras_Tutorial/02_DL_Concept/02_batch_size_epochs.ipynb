{
 "cells": [
  {
   "cell_type": "markdown",
   "metadata": {},
   "source": [
    "* 1\\. execute Learn in Keras\n",
    "    * 1.1\\. model.fit(x, y, batch_size=32, epochs=10)\n",
    "        * x is input data\n",
    "        * y is label\n",
    "        * Weight is updated per batch_size of input data.\n",
    "        * Weight is updated by backPropagation.\n",
    "        * repeat epochs times for learn with same input data.\n",
    "        * Too big epochs cause overfitting."
   ]
  }
 ],
 "metadata": {
  "kernelspec": {
   "display_name": "Python 3",
   "language": "python",
   "name": "python3"
  },
  "language_info": {
   "codemirror_mode": {
    "name": "ipython",
    "version": 3
   },
   "file_extension": ".py",
   "mimetype": "text/x-python",
   "name": "python",
   "nbconvert_exporter": "python",
   "pygments_lexer": "ipython3",
   "version": "3.5.2"
  }
 },
 "nbformat": 4,
 "nbformat_minor": 2
}
