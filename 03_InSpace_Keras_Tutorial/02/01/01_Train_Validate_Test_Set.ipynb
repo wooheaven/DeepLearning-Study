{
 "cells": [
  {
   "cell_type": "markdown",
   "metadata": {},
   "source": [
    "* 1\\. What is Learning the knowledge\n",
    "    * 1.1\\. Learn is making model to to understand the real.\n",
    "    * 1.2\\. For use in real after learn.\n",
    "    * 1.3\\. Learning has several step and process.\n",
    "\n",
    "* 2\\. Learn = Train <-> Test \n",
    "\n",
    "* 3\\. Learn = Train, Validate, Test\n",
    "    * 3.1\\. Train \n",
    "    * 3.2\\. Validate\n",
    "        * What to validate = trained knowledge\n",
    "        * How to validate  = updating the model by repeat each train-set and check with another-set.\n",
    "        * Find out early stopping between underfitting and overfitting. (ex Frog in the wall)\n",
    "        * cross validation is recommanded. (ex recusively pick up 1-set of 5-set for validate)\n",
    "    * 3.3\\. Test \n",
    "        * What to test = trained and validated knowledge\n",
    "        * How to test  = Apply with the last updated model, check with another-set.\n",
    "* 4\\. Train, Validate, Test is relative."
   ]
  }
 ],
 "metadata": {
  "kernelspec": {
   "display_name": "Python 3",
   "language": "python",
   "name": "python3"
  },
  "language_info": {
   "codemirror_mode": {
    "name": "ipython",
    "version": 3
   },
   "file_extension": ".py",
   "mimetype": "text/x-python",
   "name": "python",
   "nbconvert_exporter": "python",
   "pygments_lexer": "ipython3",
   "version": "3.5.2"
  }
 },
 "nbformat": 4,
 "nbformat_minor": 2
}
