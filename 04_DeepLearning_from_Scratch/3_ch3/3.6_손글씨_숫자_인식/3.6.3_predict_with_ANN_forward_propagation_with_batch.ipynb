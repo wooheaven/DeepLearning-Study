{
 "cells": [
  {
   "cell_type": "code",
   "execution_count": 1,
   "metadata": {},
   "outputs": [
    {
     "name": "stdout",
     "output_type": "stream",
     "text": [
      "../.. <class 'str'>\n"
     ]
    }
   ],
   "source": [
    "import sys, os\n",
    "path = '../..'\n",
    "print(path, type(path))\n",
    "sys.path.append(path)"
   ]
  },
  {
   "cell_type": "code",
   "execution_count": 2,
   "metadata": {},
   "outputs": [],
   "source": [
    "from dataset.mnist import load_mnist\n",
    "import pickle\n",
    "import numpy as np"
   ]
  },
  {
   "cell_type": "code",
   "execution_count": 3,
   "metadata": {},
   "outputs": [
    {
     "name": "stdout",
     "output_type": "stream",
     "text": [
      "(10000, 784) (10000,)\n"
     ]
    }
   ],
   "source": [
    "(x_train, t_train), (x_test, t_test) = load_mnist(flatten=True, normalize=True)\n",
    "print(x_test.shape, t_test.shape)"
   ]
  },
  {
   "cell_type": "code",
   "execution_count": 4,
   "metadata": {},
   "outputs": [
    {
     "name": "stdout",
     "output_type": "stream",
     "text": [
      "<class 'dict'>\n"
     ]
    }
   ],
   "source": [
    "with open('../../dataset/sample_weight.pkl', 'rb') as f:\n",
    "    network = pickle.load(f)\n",
    "print(type(network))"
   ]
  },
  {
   "cell_type": "code",
   "execution_count": 5,
   "metadata": {},
   "outputs": [],
   "source": [
    "def sigmoid(x):\n",
    "    return 1/(1+np.exp(-x))"
   ]
  },
  {
   "cell_type": "code",
   "execution_count": 6,
   "metadata": {},
   "outputs": [],
   "source": [
    "def softmax(x):\n",
    "    x = x - np.max(x)\n",
    "    return np.exp(x) / np.sum(np.exp(x))"
   ]
  },
  {
   "cell_type": "code",
   "execution_count": 7,
   "metadata": {},
   "outputs": [],
   "source": [
    "def get_next_layer(activate_function, in_layout, weight, bias):\n",
    "    next_layer = np.dot(in_layout, weight) + bias\n",
    "    return activate_function(next_layer)"
   ]
  },
  {
   "cell_type": "code",
   "execution_count": 8,
   "metadata": {},
   "outputs": [
    {
     "name": "stdout",
     "output_type": "stream",
     "text": [
      "(784, 50) (50, 100) (100, 10)\n",
      "(50,) (100,) (10,)\n"
     ]
    }
   ],
   "source": [
    "W1, W2, W3 = network['W1'], network['W2'], network['W3']\n",
    "b1, b2, b3 = network['b1'], network['b2'], network['b3']\n",
    "print(W1.shape, W2.shape, W3.shape)\n",
    "print(b1.shape, b2.shape, b3.shape)"
   ]
  },
  {
   "cell_type": "code",
   "execution_count": 9,
   "metadata": {},
   "outputs": [],
   "source": [
    "def predict(x):\n",
    "    z1 = get_next_layer(sigmoid, x, W1, b1)\n",
    "    z2 = get_next_layer(sigmoid, z1, W2, b2)\n",
    "    z3 = get_next_layer(softmax, z2, W3, b3)\n",
    "    return z3"
   ]
  },
  {
   "cell_type": "code",
   "execution_count": 10,
   "metadata": {},
   "outputs": [
    {
     "name": "stdout",
     "output_type": "stream",
     "text": [
      "0 <= i <= 1000 accuracy_count= 932\n",
      "1000 <= i <= 2000 accuracy_count= 1831\n",
      "2000 <= i <= 3000 accuracy_count= 2753\n",
      "3000 <= i <= 4000 accuracy_count= 3667\n",
      "4000 <= i <= 5000 accuracy_count= 4587\n",
      "5000 <= i <= 6000 accuracy_count= 5544\n",
      "6000 <= i <= 7000 accuracy_count= 6491\n",
      "7000 <= i <= 8000 accuracy_count= 7450\n",
      "8000 <= i <= 9000 accuracy_count= 8426\n",
      "9000 <= i <= 10000 accuracy_count= 9352\n",
      "Accuracy : 0.9352\n"
     ]
    }
   ],
   "source": [
    "accuracy_count = 0\n",
    "batch_size = 1000\n",
    "for i in range(0, len(x_test), batch_size):\n",
    "    x_test_batch = x_test[i:i+batch_size]\n",
    "    y_test_batch = predict(x_test_batch)\n",
    "    p_num_batch = np.argmax(y_test_batch, axis=1)\n",
    "    accuracy_count += np.sum(p_num_batch == t_test[i:i+batch_size])\n",
    "    print(str(i), '<= i <=',str(i+batch_size), 'accuracy_count=', str(accuracy_count))\n",
    "print(\"Accuracy :\", str(float(accuracy_count)/len(x_test)))"
   ]
  }
 ],
 "metadata": {
  "kernelspec": {
   "display_name": "Python 3",
   "language": "python",
   "name": "python3"
  },
  "language_info": {
   "codemirror_mode": {
    "name": "ipython",
    "version": 3
   },
   "file_extension": ".py",
   "mimetype": "text/x-python",
   "name": "python",
   "nbconvert_exporter": "python",
   "pygments_lexer": "ipython3",
   "version": "3.6.9"
  }
 },
 "nbformat": 4,
 "nbformat_minor": 2
}
