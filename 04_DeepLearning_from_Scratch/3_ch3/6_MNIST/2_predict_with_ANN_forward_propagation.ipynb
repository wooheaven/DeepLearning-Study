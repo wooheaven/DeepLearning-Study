{
 "cells": [
  {
   "cell_type": "code",
   "execution_count": 1,
   "metadata": {},
   "outputs": [],
   "source": [
    "from mnist import load_mnist\n",
    "import pickle\n",
    "import numpy as np"
   ]
  },
  {
   "cell_type": "code",
   "execution_count": 2,
   "metadata": {},
   "outputs": [],
   "source": [
    "(x_train, t_train), (x_test, t_test) = load_mnist(flatten=True, normalize=True)"
   ]
  },
  {
   "cell_type": "code",
   "execution_count": 3,
   "metadata": {},
   "outputs": [
    {
     "name": "stdout",
     "output_type": "stream",
     "text": [
      "<class 'dict'>\n"
     ]
    }
   ],
   "source": [
    "with open('sample_weight.pkl', 'rb') as f:\n",
    "    network = pickle.load(f)\n",
    "print(type(network))"
   ]
  },
  {
   "cell_type": "code",
   "execution_count": 4,
   "metadata": {},
   "outputs": [],
   "source": [
    "def sigmoid(x):\n",
    "    return 1/(1+np.exp(-x))"
   ]
  },
  {
   "cell_type": "code",
   "execution_count": 5,
   "metadata": {},
   "outputs": [],
   "source": [
    "def softmax(x):\n",
    "    x = x - np.max(x)\n",
    "    return np.exp(x) / np.sum(np.exp(x))"
   ]
  },
  {
   "cell_type": "code",
   "execution_count": 6,
   "metadata": {},
   "outputs": [],
   "source": [
    "def get_next_layer(activate_function, in_layout, weight, bias):\n",
    "    if (in_layout.shape[0] != weight.shape[0]):\n",
    "        raise ValueError(\"in_layout, weight shape are not available for matrix dot product\")\n",
    "    if (1 != bias.ndim):\n",
    "        raise ValueError(\"bias dimension is not 1\")\n",
    "    if (weight.shape[1] != bias.shape[0]):\n",
    "        raise ValueError(\"weight, bias shape are not available for matrix plus\")\n",
    "    next_layer = np.dot(in_layout, weight) + bias\n",
    "    return activate_function(next_layer)"
   ]
  },
  {
   "cell_type": "code",
   "execution_count": 11,
   "metadata": {},
   "outputs": [
    {
     "name": "stdout",
     "output_type": "stream",
     "text": [
      "(784, 50) (50, 100) (100, 10)\n",
      "(50,) (100,) (10,)\n"
     ]
    }
   ],
   "source": [
    "W1, W2, W3 = network['W1'], network['W2'], network['W3']\n",
    "b1, b2, b3 = network['b1'], network['b2'], network['b3']\n",
    "print(W1.shape, W2.shape, W3.shape)\n",
    "print(b1.shape, b2.shape, b3.shape)"
   ]
  },
  {
   "cell_type": "code",
   "execution_count": 8,
   "metadata": {},
   "outputs": [],
   "source": [
    "def predict(x):\n",
    "    z1 = get_next_layer(sigmoid, x, W1, b1)\n",
    "    z2 = get_next_layer(sigmoid, z1, W2, b2)\n",
    "    z3 = get_next_layer(softmax, z2, W3, b3)\n",
    "    return z3"
   ]
  },
  {
   "cell_type": "code",
   "execution_count": 9,
   "metadata": {},
   "outputs": [
    {
     "name": "stdout",
     "output_type": "stream",
     "text": [
      "Accuracy : 0.9352\n"
     ]
    }
   ],
   "source": [
    "accuracy_count = 0 \n",
    "for i in range(len(x_test)):\n",
    "    y_test = predict(x_test[i])\n",
    "    p_num = np.argmax(y_test)\n",
    "    if p_num == t_test[i]:\n",
    "        accuracy_count += 1\n",
    "print(\"Accuracy :\", str(float(accuracy_count)/len(x_test)))"
   ]
  }
 ],
 "metadata": {
  "kernelspec": {
   "display_name": "Python 3",
   "language": "python",
   "name": "python3"
  },
  "language_info": {
   "codemirror_mode": {
    "name": "ipython",
    "version": 3
   },
   "file_extension": ".py",
   "mimetype": "text/x-python",
   "name": "python",
   "nbconvert_exporter": "python",
   "pygments_lexer": "ipython3",
   "version": "3.7.3"
  }
 },
 "nbformat": 4,
 "nbformat_minor": 2
}
