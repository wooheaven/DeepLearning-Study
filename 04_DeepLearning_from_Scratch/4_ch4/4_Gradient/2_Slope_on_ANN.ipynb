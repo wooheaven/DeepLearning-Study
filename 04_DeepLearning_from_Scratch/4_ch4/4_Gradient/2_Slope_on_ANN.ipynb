{
 "cells": [
  {
   "cell_type": "code",
   "execution_count": 1,
   "metadata": {},
   "outputs": [],
   "source": [
    "import sys, os\n",
    "sys.path.append('../../')\n",
    "from common.gradient import numerical_gradient\n",
    "from common.functions import softmax\n",
    "import numpy as np"
   ]
  },
  {
   "cell_type": "markdown",
   "metadata": {},
   "source": [
    "# Slope on ANN = The slope of the loss function with respect to the weight parameter"
   ]
  },
  {
   "cell_type": "code",
   "execution_count": 2,
   "metadata": {},
   "outputs": [],
   "source": [
    "class simpleNet:\n",
    "    def __init__(self):\n",
    "        self.W = np.random.randn(2,3)\n",
    "\n",
    "    def predict(self, x):\n",
    "        return np.dot(x, self.W)\n",
    "\n",
    "    def cross_entropy_error(self, y, t):\n",
    "        if y.ndim == 1:\n",
    "            t = t.reshape(1, t.size)\n",
    "            y = y.reshape(1, y.size)\n",
    "        \n",
    "        # 훈련 데이터가 원-핫 벡터라면 정답 레이블의 인덱스로 반환\n",
    "        if t.size == y.size:\n",
    "            t = t.argmax(axis=1)\n",
    "             \n",
    "        batch_size = y.shape[0]\n",
    "        return -np.sum(np.log(y[np.arange(batch_size), t] + 1e-7)) / batch_size\n",
    "    \n",
    "    def loss(self, x, t):\n",
    "        z = self.predict(x)\n",
    "        y = softmax(z)\n",
    "        return self.cross_entropy_error(y, z)"
   ]
  },
  {
   "cell_type": "code",
   "execution_count": 3,
   "metadata": {},
   "outputs": [],
   "source": [
    "net = simpleNet()"
   ]
  },
  {
   "cell_type": "code",
   "execution_count": 4,
   "metadata": {},
   "outputs": [
    {
     "name": "stdout",
     "output_type": "stream",
     "text": [
      "(2, 3)\n"
     ]
    },
    {
     "data": {
      "text/plain": [
       "array([[-2.18388879, -0.31394738,  0.30983899],\n",
       "       [-0.12552112, -0.84188114, -1.3445247 ]])"
      ]
     },
     "execution_count": 4,
     "metadata": {},
     "output_type": "execute_result"
    }
   ],
   "source": [
    "print(net.W.shape)\n",
    "net.W"
   ]
  },
  {
   "cell_type": "code",
   "execution_count": 5,
   "metadata": {},
   "outputs": [
    {
     "data": {
      "text/plain": [
       "array([[0.47355232, 0.9977393 , 0.84668094],\n",
       "       [0.85555741, 0.03563661, 0.69422093]])"
      ]
     },
     "execution_count": 5,
     "metadata": {},
     "output_type": "execute_result"
    }
   ],
   "source": [
    "net.W = np.array([[0.47355232, 0.9977393, 0.84668094], [0.855557411, 0.03563661, 0.69422093]])\n",
    "net.W"
   ]
  },
  {
   "cell_type": "code",
   "execution_count": 6,
   "metadata": {},
   "outputs": [],
   "source": [
    "x = np.array([0.6, 0.9])"
   ]
  },
  {
   "cell_type": "code",
   "execution_count": 7,
   "metadata": {},
   "outputs": [
    {
     "data": {
      "text/plain": [
       "array([1.05413306, 0.63071653, 1.1328074 ])"
      ]
     },
     "execution_count": 7,
     "metadata": {},
     "output_type": "execute_result"
    }
   ],
   "source": [
    "p = net.predict(x)\n",
    "p"
   ]
  },
  {
   "cell_type": "code",
   "execution_count": 8,
   "metadata": {},
   "outputs": [
    {
     "data": {
      "text/plain": [
       "2"
      ]
     },
     "execution_count": 8,
     "metadata": {},
     "output_type": "execute_result"
    }
   ],
   "source": [
    "np.argmax(p)"
   ]
  },
  {
   "cell_type": "code",
   "execution_count": 9,
   "metadata": {},
   "outputs": [],
   "source": [
    "t = np.array([0,0,1])"
   ]
  },
  {
   "cell_type": "code",
   "execution_count": 10,
   "metadata": {},
   "outputs": [
    {
     "data": {
      "text/plain": [
       "0.9280627939898086"
      ]
     },
     "execution_count": 10,
     "metadata": {},
     "output_type": "execute_result"
    }
   ],
   "source": [
    "net.loss(x, t)"
   ]
  },
  {
   "cell_type": "markdown",
   "metadata": {},
   "source": [
    "# Get slope of the loss function with respect to the weight parameter"
   ]
  },
  {
   "cell_type": "code",
   "execution_count": 11,
   "metadata": {},
   "outputs": [],
   "source": [
    "def f(W):\n",
    "    return net.loss(x, t)"
   ]
  },
  {
   "cell_type": "code",
   "execution_count": 12,
   "metadata": {},
   "outputs": [
    {
     "name": "stdout",
     "output_type": "stream",
     "text": [
      "x.shape = (2, 3) x.ndim = 2 \n",
      "x = [[0.47355232 0.9977393  0.84668094]\n",
      " [0.85555741 0.03563661 0.69422093]]\n",
      "idx = (0, 0) x+h = 0.47365232 f(x+h) = 0.9280847189552238\n",
      "idx = (0, 0) x-h = 0.47345232000000004 f(x-h) = 0.9280408698591798\n",
      "idx = (0, 1) x+h = 0.9978393 f(x+h) = 0.928077150639272\n",
      "idx = (0, 1) x-h = 0.9976393 f(x-h) = 0.9280484379956203\n",
      "idx = (0, 2) x+h = 0.84678094 f(x+h) = 0.9280265135502431\n",
      "idx = (0, 2) x-h = 0.8465809400000001 f(x-h) = 0.9280990752899237\n",
      "idx = (1, 0) x+h = 0.855657411 f(x+h) = 0.9280956817509809\n",
      "idx = (1, 0) x-h = 0.8554574110000001 f(x-h) = 0.9280299081069064\n",
      "idx = (1, 1) x+h = 0.03573661 f(x+h) = 0.9280843292097382\n",
      "idx = (1, 1) x-h = 0.035536609999999996 f(x-h) = 0.9280412602442478\n",
      "idx = (1, 2) x+h = 0.69432093 f(x+h) = 0.9280083736531699\n",
      "idx = (1, 2) x-h = 0.69412093 f(x-h) = 0.9281172162626843\n"
     ]
    },
    {
     "data": {
      "text/plain": [
       "array([[ 0.21924548,  0.14356322, -0.3628087 ],\n",
       "       [ 0.32886822,  0.21534483, -0.54421305]])"
      ]
     },
     "execution_count": 12,
     "metadata": {},
     "output_type": "execute_result"
    }
   ],
   "source": [
    "dW = numerical_gradient(f, net.W, print_status=True)\n",
    "dW"
   ]
  },
  {
   "cell_type": "markdown",
   "metadata": {},
   "source": [
    "# Use lambda"
   ]
  },
  {
   "cell_type": "code",
   "execution_count": 13,
   "metadata": {},
   "outputs": [
    {
     "name": "stdout",
     "output_type": "stream",
     "text": [
      "x.shape = (2, 3) x.ndim = 2 \n",
      "x = [[0.47355232 0.9977393  0.84668094]\n",
      " [0.85555741 0.03563661 0.69422093]]\n",
      "idx = (0, 0) x+h = 0.47365232 f(x+h) = 0.9280847189552238\n",
      "idx = (0, 0) x-h = 0.47345232000000004 f(x-h) = 0.9280408698591798\n",
      "idx = (0, 1) x+h = 0.9978393 f(x+h) = 0.928077150639272\n",
      "idx = (0, 1) x-h = 0.9976393 f(x-h) = 0.9280484379956203\n",
      "idx = (0, 2) x+h = 0.84678094 f(x+h) = 0.9280265135502431\n",
      "idx = (0, 2) x-h = 0.8465809400000001 f(x-h) = 0.9280990752899237\n",
      "idx = (1, 0) x+h = 0.855657411 f(x+h) = 0.9280956817509809\n",
      "idx = (1, 0) x-h = 0.8554574110000001 f(x-h) = 0.9280299081069064\n",
      "idx = (1, 1) x+h = 0.03573661 f(x+h) = 0.9280843292097382\n",
      "idx = (1, 1) x-h = 0.035536609999999996 f(x-h) = 0.9280412602442478\n",
      "idx = (1, 2) x+h = 0.69432093 f(x+h) = 0.9280083736531699\n",
      "idx = (1, 2) x-h = 0.69412093 f(x-h) = 0.9281172162626843\n"
     ]
    },
    {
     "data": {
      "text/plain": [
       "array([[ 0.21924548,  0.14356322, -0.3628087 ],\n",
       "       [ 0.32886822,  0.21534483, -0.54421305]])"
      ]
     },
     "execution_count": 13,
     "metadata": {},
     "output_type": "execute_result"
    }
   ],
   "source": [
    "f = lambda w: net.loss(x, t)\n",
    "dW = numerical_gradient(f, net.W, print_status=True)\n",
    "dW"
   ]
  }
 ],
 "metadata": {
  "kernelspec": {
   "display_name": "Python 3",
   "language": "python",
   "name": "python3"
  },
  "language_info": {
   "codemirror_mode": {
    "name": "ipython",
    "version": 3
   },
   "file_extension": ".py",
   "mimetype": "text/x-python",
   "name": "python",
   "nbconvert_exporter": "python",
   "pygments_lexer": "ipython3",
   "version": "3.7.3"
  }
 },
 "nbformat": 4,
 "nbformat_minor": 2
}
