{
 "cells": [
  {
   "cell_type": "markdown",
   "metadata": {},
   "source": [
    "# Slope on ANN = The slope of the loss function with respect to the weight parameter"
   ]
  },
  {
   "cell_type": "code",
   "execution_count": 1,
   "metadata": {},
   "outputs": [],
   "source": [
    "import numpy as np"
   ]
  },
  {
   "cell_type": "code",
   "execution_count": 2,
   "metadata": {},
   "outputs": [],
   "source": [
    "class simpleNet:\n",
    "    def __init__(self):\n",
    "        self.W = np.random.randn(2,3)\n",
    "\n",
    "    def predict(self, x):\n",
    "        return np.dot(x, self.W)\n",
    "\n",
    "    def softmax(self, x):\n",
    "        if x.ndim == 2:\n",
    "            x = x.T\n",
    "            x = x - np.max(x, axis=0) # overflow\n",
    "            y = np.exp(x) / np.sum(np.exp(x), axis=0)\n",
    "            return y.T \n",
    "        x = x - np.max(x) # overflow\n",
    "        return np.exp(x) / np.sum(np.exp(x))\n",
    "\n",
    "    def cross_entropy_error(self, y, t):\n",
    "        if y.ndim == 1:\n",
    "            t = t.reshape(1, t.size)\n",
    "            y = y.reshape(1, y.size)\n",
    "        \n",
    "        # 훈련 데이터가 원-핫 벡터라면 정답 레이블의 인덱스로 반환\n",
    "        if t.size == y.size:\n",
    "            t = t.argmax(axis=1)\n",
    "             \n",
    "        batch_size = y.shape[0]\n",
    "        print('batch_size =', batch_size)\n",
    "        return -np.sum(np.log(y[np.arange(batch_size), t] + 1e-7)) / batch_size\n",
    "    \n",
    "    def loss(self, x, t):\n",
    "        z = self.predict(x)\n",
    "        y = self.softmax(z)\n",
    "        print('y.shape =', y.shape, 'y.ndim =', y.ndim, 'y =', y)\n",
    "        return self.cross_entropy_error(y, z)"
   ]
  },
  {
   "cell_type": "code",
   "execution_count": 3,
   "metadata": {},
   "outputs": [],
   "source": [
    "net = simpleNet()"
   ]
  },
  {
   "cell_type": "code",
   "execution_count": 4,
   "metadata": {},
   "outputs": [
    {
     "name": "stdout",
     "output_type": "stream",
     "text": [
      "(2, 3)\n"
     ]
    },
    {
     "data": {
      "text/plain": [
       "array([[ 1.23984704,  0.34491688,  2.23902429],\n",
       "       [-0.90642756, -0.04713224,  0.17343906]])"
      ]
     },
     "execution_count": 4,
     "metadata": {},
     "output_type": "execute_result"
    }
   ],
   "source": [
    "print(net.W.shape)\n",
    "net.W"
   ]
  },
  {
   "cell_type": "code",
   "execution_count": 5,
   "metadata": {},
   "outputs": [],
   "source": [
    "net.W = np.array([[0.47355232, 0.9977393, 0.84668094], [0.855557411, 0.03563661, 0.69422093]])"
   ]
  },
  {
   "cell_type": "code",
   "execution_count": 6,
   "metadata": {},
   "outputs": [
    {
     "data": {
      "text/plain": [
       "array([[0.47355232, 0.9977393 , 0.84668094],\n",
       "       [0.85555741, 0.03563661, 0.69422093]])"
      ]
     },
     "execution_count": 6,
     "metadata": {},
     "output_type": "execute_result"
    }
   ],
   "source": [
    "net.W"
   ]
  },
  {
   "cell_type": "code",
   "execution_count": 7,
   "metadata": {},
   "outputs": [],
   "source": [
    "x = np.array([0.6, 0.9])"
   ]
  },
  {
   "cell_type": "code",
   "execution_count": 8,
   "metadata": {},
   "outputs": [
    {
     "data": {
      "text/plain": [
       "array([1.05413306, 0.63071653, 1.1328074 ])"
      ]
     },
     "execution_count": 8,
     "metadata": {},
     "output_type": "execute_result"
    }
   ],
   "source": [
    "p = net.predict(x)\n",
    "p"
   ]
  },
  {
   "cell_type": "code",
   "execution_count": 9,
   "metadata": {},
   "outputs": [
    {
     "data": {
      "text/plain": [
       "2"
      ]
     },
     "execution_count": 9,
     "metadata": {},
     "output_type": "execute_result"
    }
   ],
   "source": [
    "np.argmax(p)"
   ]
  },
  {
   "cell_type": "code",
   "execution_count": 10,
   "metadata": {},
   "outputs": [],
   "source": [
    "t = np.array([0,0,1])"
   ]
  },
  {
   "cell_type": "code",
   "execution_count": 11,
   "metadata": {},
   "outputs": [
    {
     "name": "stdout",
     "output_type": "stream",
     "text": [
      "y.shape = (3,) y.ndim = 1 y = [0.36540923 0.23927209 0.39531868]\n",
      "batch_size = 1\n"
     ]
    },
    {
     "data": {
      "text/plain": [
       "0.9280627939898086"
      ]
     },
     "execution_count": 11,
     "metadata": {},
     "output_type": "execute_result"
    }
   ],
   "source": [
    "net.loss(x, t)"
   ]
  },
  {
   "cell_type": "markdown",
   "metadata": {},
   "source": [
    "# Get slope of the loss function with respect to the weight parameter"
   ]
  },
  {
   "cell_type": "code",
   "execution_count": 12,
   "metadata": {},
   "outputs": [],
   "source": [
    "def f(W):\n",
    "    return net.loss(x, t)"
   ]
  },
  {
   "cell_type": "code",
   "execution_count": 13,
   "metadata": {},
   "outputs": [],
   "source": [
    "# def numerical_gradient(f, x):\n",
    "#     h = 1e-4 # 0.0001\n",
    "#     gradient = np.zeros_like(x)\n",
    "#     for i in range(0, x.size):\n",
    "#         tmp_val = x[i]\n",
    "#         # f(x+h)\n",
    "#         x[i] = float(tmp_val) + h\n",
    "#         fx_right = f(x)\n",
    "#         # f(x-h)\n",
    "#         x[i] = float(tmp_val) - h\n",
    "#         fx_left = f(x)\n",
    "#         # gradient\n",
    "#         gradient[i] = (fx_right - fx_left) / (2*h)\n",
    "#         # 값 복원\n",
    "#         x[i] = tmp_val\n",
    "#     return gradient"
   ]
  },
  {
   "cell_type": "code",
   "execution_count": 14,
   "metadata": {},
   "outputs": [],
   "source": [
    "def numerical_gradient(f, x):\n",
    "    h = 1e-4 # 0.0001\n",
    "    gradient = np.zeros_like(x)\n",
    "    it = np.nditer(x, flags=['multi_index'], op_flags=['readwrite'])\n",
    "    while not it.finished:\n",
    "        idx = it.multi_index\n",
    "        tmp_val = x[idx]\n",
    "        # f(x+h)\n",
    "        x[idx] = float(tmp_val) + h\n",
    "        fxh1 = f(x) \n",
    "        # f(x-h)\n",
    "        x[idx] = tmp_val - h \n",
    "        fxh2 = f(x) \n",
    "        gradient[idx] = (fxh1 - fxh2) / (2*h)\n",
    "        # 값 복원\n",
    "        x[idx] = tmp_val \n",
    "        it.iternext()      \n",
    "    return gradient"
   ]
  },
  {
   "cell_type": "code",
   "execution_count": 15,
   "metadata": {},
   "outputs": [
    {
     "name": "stdout",
     "output_type": "stream",
     "text": [
      "y.shape = (3,) y.ndim = 1 y = [0.36542314 0.23926684 0.39531002]\n",
      "batch_size = 1\n",
      "y.shape = (3,) y.ndim = 1 y = [0.36539531 0.23927734 0.39532735]\n",
      "batch_size = 1\n",
      "y.shape = (3,) y.ndim = 1 y = [0.36540398 0.23928301 0.39531301]\n",
      "batch_size = 1\n",
      "y.shape = (3,) y.ndim = 1 y = [0.36541447 0.23926117 0.39532436]\n",
      "batch_size = 1\n",
      "y.shape = (3,) y.ndim = 1 y = [0.36540056 0.23926642 0.39533303]\n",
      "batch_size = 1\n",
      "y.shape = (3,) y.ndim = 1 y = [0.36541789 0.23927777 0.39530434]\n",
      "batch_size = 1\n",
      "y.shape = (3,) y.ndim = 1 y = [0.3654301  0.23926422 0.39530568]\n",
      "batch_size = 1\n",
      "y.shape = (3,) y.ndim = 1 y = [0.36538836 0.23927996 0.39533168]\n",
      "batch_size = 1\n",
      "y.shape = (3,) y.ndim = 1 y = [0.36540136 0.23928847 0.39531017]\n",
      "batch_size = 1\n",
      "y.shape = (3,) y.ndim = 1 y = [0.36541709 0.23925571 0.3953272 ]\n",
      "batch_size = 1\n",
      "y.shape = (3,) y.ndim = 1 y = [0.36539623 0.23926358 0.3953402 ]\n",
      "batch_size = 1\n",
      "y.shape = (3,) y.ndim = 1 y = [0.36542223 0.2392806  0.39529717]\n",
      "batch_size = 1\n"
     ]
    },
    {
     "data": {
      "text/plain": [
       "array([[ 0.21924548,  0.14356322, -0.3628087 ],\n",
       "       [ 0.32886822,  0.21534483, -0.54421305]])"
      ]
     },
     "execution_count": 15,
     "metadata": {},
     "output_type": "execute_result"
    }
   ],
   "source": [
    "dW = numerical_gradient(f, net.W)\n",
    "dW"
   ]
  },
  {
   "cell_type": "markdown",
   "metadata": {},
   "source": [
    "# Use lambda"
   ]
  },
  {
   "cell_type": "code",
   "execution_count": 16,
   "metadata": {},
   "outputs": [
    {
     "name": "stdout",
     "output_type": "stream",
     "text": [
      "y.shape = (3,) y.ndim = 1 y = [0.36542314 0.23926684 0.39531002]\n",
      "batch_size = 1\n",
      "y.shape = (3,) y.ndim = 1 y = [0.36539531 0.23927734 0.39532735]\n",
      "batch_size = 1\n",
      "y.shape = (3,) y.ndim = 1 y = [0.36540398 0.23928301 0.39531301]\n",
      "batch_size = 1\n",
      "y.shape = (3,) y.ndim = 1 y = [0.36541447 0.23926117 0.39532436]\n",
      "batch_size = 1\n",
      "y.shape = (3,) y.ndim = 1 y = [0.36540056 0.23926642 0.39533303]\n",
      "batch_size = 1\n",
      "y.shape = (3,) y.ndim = 1 y = [0.36541789 0.23927777 0.39530434]\n",
      "batch_size = 1\n",
      "y.shape = (3,) y.ndim = 1 y = [0.3654301  0.23926422 0.39530568]\n",
      "batch_size = 1\n",
      "y.shape = (3,) y.ndim = 1 y = [0.36538836 0.23927996 0.39533168]\n",
      "batch_size = 1\n",
      "y.shape = (3,) y.ndim = 1 y = [0.36540136 0.23928847 0.39531017]\n",
      "batch_size = 1\n",
      "y.shape = (3,) y.ndim = 1 y = [0.36541709 0.23925571 0.3953272 ]\n",
      "batch_size = 1\n",
      "y.shape = (3,) y.ndim = 1 y = [0.36539623 0.23926358 0.3953402 ]\n",
      "batch_size = 1\n",
      "y.shape = (3,) y.ndim = 1 y = [0.36542223 0.2392806  0.39529717]\n",
      "batch_size = 1\n"
     ]
    },
    {
     "data": {
      "text/plain": [
       "array([[ 0.21924548,  0.14356322, -0.3628087 ],\n",
       "       [ 0.32886822,  0.21534483, -0.54421305]])"
      ]
     },
     "execution_count": 16,
     "metadata": {},
     "output_type": "execute_result"
    }
   ],
   "source": [
    "f = lambda w: net.loss(x, t)\n",
    "dW = numerical_gradient(f, net.W)\n",
    "dW"
   ]
  }
 ],
 "metadata": {
  "kernelspec": {
   "display_name": "Python 3",
   "language": "python",
   "name": "python3"
  },
  "language_info": {
   "codemirror_mode": {
    "name": "ipython",
    "version": 3
   },
   "file_extension": ".py",
   "mimetype": "text/x-python",
   "name": "python",
   "nbconvert_exporter": "python",
   "pygments_lexer": "ipython3",
   "version": "3.7.3"
  }
 },
 "nbformat": 4,
 "nbformat_minor": 2
}
