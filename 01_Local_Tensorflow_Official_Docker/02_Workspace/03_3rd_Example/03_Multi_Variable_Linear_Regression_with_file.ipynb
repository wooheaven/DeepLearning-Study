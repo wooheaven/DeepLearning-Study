{
 "cells": [
  {
   "cell_type": "code",
   "execution_count": 1,
   "metadata": {
    "collapsed": true
   },
   "outputs": [],
   "source": [
    "import numpy as np"
   ]
  },
  {
   "cell_type": "code",
   "execution_count": 2,
   "metadata": {},
   "outputs": [
    {
     "data": {
      "text/plain": [
       "array([[  73.,   80.,   75.,  152.],\n",
       "       [  93.,   88.,   93.,  185.],\n",
       "       [  89.,   91.,   90.,  180.],\n",
       "       [  96.,   98.,  100.,  196.],\n",
       "       [  73.,   66.,   70.,  142.],\n",
       "       [  53.,   46.,   55.,  101.],\n",
       "       [  69.,   74.,   77.,  149.],\n",
       "       [  47.,   56.,   60.,  115.],\n",
       "       [  87.,   79.,   90.,  175.],\n",
       "       [  79.,   70.,   88.,  164.],\n",
       "       [  69.,   70.,   73.,  141.],\n",
       "       [  70.,   65.,   74.,  141.],\n",
       "       [  93.,   95.,   91.,  184.],\n",
       "       [  79.,   80.,   73.,  152.],\n",
       "       [  70.,   73.,   78.,  148.],\n",
       "       [  93.,   89.,   96.,  192.],\n",
       "       [  78.,   75.,   68.,  147.],\n",
       "       [  81.,   90.,   93.,  183.],\n",
       "       [  88.,   92.,   86.,  177.],\n",
       "       [  78.,   83.,   77.,  159.],\n",
       "       [  82.,   86.,   90.,  177.],\n",
       "       [  86.,   82.,   89.,  175.],\n",
       "       [  78.,   83.,   85.,  175.],\n",
       "       [  76.,   83.,   71.,  149.],\n",
       "       [  96.,   93.,   95.,  192.]], dtype=float32)"
      ]
     },
     "execution_count": 2,
     "metadata": {},
     "output_type": "execute_result"
    }
   ],
   "source": [
    "xy = np.loadtxt('data-01-test-score.csv', delimiter=',', dtype=np.float32)\n",
    "xy\n",
    "\n",
    "# 1번째 학생이 1번째 시험에서 73점을 받음\n",
    "# 1번째 학생이 2번째 시험에서 80점을 받음\n",
    "# 1번째 학생이 3번째 시험에서 75점을 받음\n",
    "# 1번째 학생이 기말고사에서 152점을 받음"
   ]
  },
  {
   "cell_type": "code",
   "execution_count": 3,
   "metadata": {},
   "outputs": [
    {
     "data": {
      "text/plain": [
       "array([[  73.,   80.,   75.],\n",
       "       [  93.,   88.,   93.],\n",
       "       [  89.,   91.,   90.],\n",
       "       [  96.,   98.,  100.],\n",
       "       [  73.,   66.,   70.],\n",
       "       [  53.,   46.,   55.],\n",
       "       [  69.,   74.,   77.],\n",
       "       [  47.,   56.,   60.],\n",
       "       [  87.,   79.,   90.],\n",
       "       [  79.,   70.,   88.],\n",
       "       [  69.,   70.,   73.],\n",
       "       [  70.,   65.,   74.],\n",
       "       [  93.,   95.,   91.],\n",
       "       [  79.,   80.,   73.],\n",
       "       [  70.,   73.,   78.],\n",
       "       [  93.,   89.,   96.],\n",
       "       [  78.,   75.,   68.],\n",
       "       [  81.,   90.,   93.],\n",
       "       [  88.,   92.,   86.],\n",
       "       [  78.,   83.,   77.],\n",
       "       [  82.,   86.,   90.],\n",
       "       [  86.,   82.,   89.],\n",
       "       [  78.,   83.,   85.],\n",
       "       [  76.,   83.,   71.],\n",
       "       [  96.,   93.,   95.]], dtype=float32)"
      ]
     },
     "execution_count": 3,
     "metadata": {},
     "output_type": "execute_result"
    }
   ],
   "source": [
    "x_data = xy[:,0:-1]\n",
    "x_data"
   ]
  },
  {
   "cell_type": "code",
   "execution_count": 4,
   "metadata": {},
   "outputs": [
    {
     "data": {
      "text/plain": [
       "array([[ 152.],\n",
       "       [ 185.],\n",
       "       [ 180.],\n",
       "       [ 196.],\n",
       "       [ 142.],\n",
       "       [ 101.],\n",
       "       [ 149.],\n",
       "       [ 115.],\n",
       "       [ 175.],\n",
       "       [ 164.],\n",
       "       [ 141.],\n",
       "       [ 141.],\n",
       "       [ 184.],\n",
       "       [ 152.],\n",
       "       [ 148.],\n",
       "       [ 192.],\n",
       "       [ 147.],\n",
       "       [ 183.],\n",
       "       [ 177.],\n",
       "       [ 159.],\n",
       "       [ 177.],\n",
       "       [ 175.],\n",
       "       [ 175.],\n",
       "       [ 149.],\n",
       "       [ 192.]], dtype=float32)"
      ]
     },
     "execution_count": 4,
     "metadata": {},
     "output_type": "execute_result"
    }
   ],
   "source": [
    "y_data = xy[:,[-1]]\n",
    "y_data"
   ]
  },
  {
   "cell_type": "code",
   "execution_count": 5,
   "metadata": {},
   "outputs": [
    {
     "name": "stdout",
     "output_type": "stream",
     "text": [
      "((25, 3), array([[  73.,   80.,   75.],\n",
      "       [  93.,   88.,   93.],\n",
      "       [  89.,   91.,   90.],\n",
      "       [  96.,   98.,  100.],\n",
      "       [  73.,   66.,   70.],\n",
      "       [  53.,   46.,   55.],\n",
      "       [  69.,   74.,   77.],\n",
      "       [  47.,   56.,   60.],\n",
      "       [  87.,   79.,   90.],\n",
      "       [  79.,   70.,   88.],\n",
      "       [  69.,   70.,   73.],\n",
      "       [  70.,   65.,   74.],\n",
      "       [  93.,   95.,   91.],\n",
      "       [  79.,   80.,   73.],\n",
      "       [  70.,   73.,   78.],\n",
      "       [  93.,   89.,   96.],\n",
      "       [  78.,   75.,   68.],\n",
      "       [  81.,   90.,   93.],\n",
      "       [  88.,   92.,   86.],\n",
      "       [  78.,   83.,   77.],\n",
      "       [  82.,   86.,   90.],\n",
      "       [  86.,   82.,   89.],\n",
      "       [  78.,   83.,   85.],\n",
      "       [  76.,   83.,   71.],\n",
      "       [  96.,   93.,   95.]], dtype=float32), 25)\n",
      "((25, 1), array([[ 152.],\n",
      "       [ 185.],\n",
      "       [ 180.],\n",
      "       [ 196.],\n",
      "       [ 142.],\n",
      "       [ 101.],\n",
      "       [ 149.],\n",
      "       [ 115.],\n",
      "       [ 175.],\n",
      "       [ 164.],\n",
      "       [ 141.],\n",
      "       [ 141.],\n",
      "       [ 184.],\n",
      "       [ 152.],\n",
      "       [ 148.],\n",
      "       [ 192.],\n",
      "       [ 147.],\n",
      "       [ 183.],\n",
      "       [ 177.],\n",
      "       [ 159.],\n",
      "       [ 177.],\n",
      "       [ 175.],\n",
      "       [ 175.],\n",
      "       [ 149.],\n",
      "       [ 192.]], dtype=float32), 25)\n"
     ]
    }
   ],
   "source": [
    "# Make sure the shape and data are OK\n",
    "print(x_data.shape, x_data, len(x_data)) # 25명의 학생이 3번의 시험을 봄\n",
    "print(y_data.shape, y_data, len(y_data)) # 25명의 학생이 기말고사를 1번만 봄"
   ]
  },
  {
   "cell_type": "code",
   "execution_count": 6,
   "metadata": {
    "collapsed": true
   },
   "outputs": [],
   "source": [
    "import tensorflow as tf"
   ]
  },
  {
   "cell_type": "code",
   "execution_count": 7,
   "metadata": {
    "collapsed": true
   },
   "outputs": [],
   "source": [
    "# for reproducibility\n",
    "tf.set_random_seed(777)"
   ]
  },
  {
   "cell_type": "code",
   "execution_count": 8,
   "metadata": {
    "collapsed": true
   },
   "outputs": [],
   "source": [
    "# placeholders for a tensor that will be always fed.\n",
    "X = tf.placeholder(tf.float32, shape=[None, 3])\n",
    "Y = tf.placeholder(tf.float32, shape=[None, 1])"
   ]
  },
  {
   "cell_type": "code",
   "execution_count": 9,
   "metadata": {
    "collapsed": true
   },
   "outputs": [],
   "source": [
    "W = tf.Variable(tf.random_normal([3,1]), name='weight') \n",
    "b = tf.Variable(tf.random_normal([1]), name='bias')"
   ]
  },
  {
   "cell_type": "code",
   "execution_count": 10,
   "metadata": {
    "collapsed": true
   },
   "outputs": [],
   "source": [
    "# Hypothesis\n",
    "hypothesis = tf.matmul(X, W) + b # 행렬곱에서 행과 열의 갯수는 (25,3) * (3,1) = (25,1) 이다."
   ]
  },
  {
   "cell_type": "code",
   "execution_count": 11,
   "metadata": {
    "collapsed": true
   },
   "outputs": [],
   "source": [
    "# Simplified cost/loss function\n",
    "cost = tf.reduce_mean(tf.square(hypothesis - Y))"
   ]
  },
  {
   "cell_type": "code",
   "execution_count": 12,
   "metadata": {
    "collapsed": true
   },
   "outputs": [],
   "source": [
    "# Minimize\n",
    "optimizer = tf.train.GradientDescentOptimizer(learning_rate=1e-5)\n",
    "train = optimizer.minimize(cost)"
   ]
  },
  {
   "cell_type": "code",
   "execution_count": 13,
   "metadata": {
    "collapsed": true
   },
   "outputs": [],
   "source": [
    "# Launch the graph in a session\n",
    "sess = tf.Session()"
   ]
  },
  {
   "cell_type": "code",
   "execution_count": 14,
   "metadata": {
    "collapsed": true
   },
   "outputs": [],
   "source": [
    "# Initializes global variables in the graph\n",
    "sess.run(tf.global_variables_initializer())"
   ]
  },
  {
   "cell_type": "code",
   "execution_count": 15,
   "metadata": {},
   "outputs": [
    {
     "name": "stdout",
     "output_type": "stream",
     "text": [
      "(0, 'Cost: ', 21027.002, '\\nPrediction:\\n', array([[ 22.04806328],\n",
      "       [ 21.61978722],\n",
      "       [ 24.09669304],\n",
      "       [ 22.29300499],\n",
      "       [ 18.6339016 ],\n",
      "       [  7.2669735 ],\n",
      "       [ 12.33102989],\n",
      "       [  3.15051103],\n",
      "       [ 14.34794426],\n",
      "       [  4.25342369],\n",
      "       [ 14.48570824],\n",
      "       [ 10.67806816],\n",
      "       [ 28.80463982],\n",
      "       [ 29.29880333],\n",
      "       [ 11.23783684],\n",
      "       [ 18.6465435 ],\n",
      "       [ 31.18945122],\n",
      "       [ 13.34466362],\n",
      "       [ 28.84174156],\n",
      "       [ 25.66280937],\n",
      "       [ 15.08476067],\n",
      "       [ 16.79836845],\n",
      "       [ 15.92455101],\n",
      "       [ 31.36112022],\n",
      "       [ 24.98636436]], dtype=float32))\n",
      "(5000, 'Cost: ', 8.4423428, '\\nPrediction:\\n', array([[ 152.94322205],\n",
      "       [ 185.31620789],\n",
      "       [ 181.74119568],\n",
      "       [ 198.42134094],\n",
      "       [ 141.39759827],\n",
      "       [ 105.37388611],\n",
      "       [ 148.98756409],\n",
      "       [ 111.00701141],\n",
      "       [ 174.23933411],\n",
      "       [ 162.74023438],\n",
      "       [ 143.48449707],\n",
      "       [ 142.38879395],\n",
      "       [ 187.23147583],\n",
      "       [ 155.06712341],\n",
      "       [ 149.96598816],\n",
      "       [ 188.40641785],\n",
      "       [ 147.54856873],\n",
      "       [ 178.67652893],\n",
      "       [ 178.19108582],\n",
      "       [ 159.41191101],\n",
      "       [ 174.67042542],\n",
      "       [ 174.29797363],\n",
      "       [ 166.26976013],\n",
      "       [ 152.98908997],\n",
      "       [ 191.54251099]], dtype=float32))\n",
      "(10000, 'Cost: ', 6.3075275, '\\nPrediction:\\n', array([[ 152.80807495],\n",
      "       [ 184.83161926],\n",
      "       [ 181.37850952],\n",
      "       [ 198.65991211],\n",
      "       [ 140.42346191],\n",
      "       [ 105.59277344],\n",
      "       [ 150.19683838],\n",
      "       [ 113.35464478],\n",
      "       [ 174.48440552],\n",
      "       [ 164.3371582 ],\n",
      "       [ 143.90252686],\n",
      "       [ 142.90081787],\n",
      "       [ 186.20120239],\n",
      "       [ 153.27996826],\n",
      "       [ 151.20257568],\n",
      "       [ 188.54864502],\n",
      "       [ 144.97619629],\n",
      "       [ 180.60470581],\n",
      "       [ 177.15759277],\n",
      "       [ 158.63653564],\n",
      "       [ 175.81799316],\n",
      "       [ 174.48239136],\n",
      "       [ 167.21029663],\n",
      "       [ 151.33444214],\n",
      "       [ 190.79202271]], dtype=float32))\n",
      "(15000, 'Cost: ', 6.1895432, '\\nPrediction:\\n', array([[ 152.91366577],\n",
      "       [ 184.63475037],\n",
      "       [ 181.34294128],\n",
      "       [ 198.73419189],\n",
      "       [ 140.09768677],\n",
      "       [ 105.48547363],\n",
      "       [ 150.50860596],\n",
      "       [ 113.95435333],\n",
      "       [ 174.36151123],\n",
      "       [ 164.44172668],\n",
      "       [ 143.9901886 ],\n",
      "       [ 142.88656616],\n",
      "       [ 186.04351807],\n",
      "       [ 152.96424866],\n",
      "       [ 151.47961426],\n",
      "       [ 188.48623657],\n",
      "       [ 144.4375    ],\n",
      "       [ 181.12716675],\n",
      "       [ 177.03909302],\n",
      "       [ 158.58526611],\n",
      "       [ 176.09843445],\n",
      "       [ 174.42782593],\n",
      "       [ 167.47277832],\n",
      "       [ 151.16212463],\n",
      "       [ 190.58616638]], dtype=float32))\n",
      "(20000, 'Cost: ', 6.1789813, '\\nPrediction:\\n', array([[ 152.9591217 ],\n",
      "       [ 184.57266235],\n",
      "       [ 181.34069824],\n",
      "       [ 198.7572937 ],\n",
      "       [ 139.99829102],\n",
      "       [ 105.43418121],\n",
      "       [ 150.59376526],\n",
      "       [ 114.11667633],\n",
      "       [ 174.30566406],\n",
      "       [ 164.4335022 ],\n",
      "       [ 144.0111084 ],\n",
      "       [ 142.86425781],\n",
      "       [ 186.01385498],\n",
      "       [ 152.89447021],\n",
      "       [ 151.55024719],\n",
      "       [ 188.45797729],\n",
      "       [ 144.3036499 ],\n",
      "       [ 181.27435303],\n",
      "       [ 177.02471924],\n",
      "       [ 158.58877563],\n",
      "       [ 176.17401123],\n",
      "       [ 174.40084839],\n",
      "       [ 167.5473938 ],\n",
      "       [ 151.14482117],\n",
      "       [ 190.5289917 ]], dtype=float32))\n"
     ]
    }
   ],
   "source": [
    "# Set up feed_dict variables inside the loop\n",
    "for step in range(20001):\n",
    "    cost_val, hy_val, _ = sess.run([cost, hypothesis, train], feed_dict={X: x_data, Y: y_data})\n",
    "    if step % 5000 == 0:\n",
    "        print(step, \"Cost: \", cost_val, \"\\nPrediction:\\n\", hy_val)"
   ]
  },
  {
   "cell_type": "code",
   "execution_count": 16,
   "metadata": {},
   "outputs": [
    {
     "name": "stdout",
     "output_type": "stream",
     "text": [
      "('Your score will be ', array([[ 186.60369873]], dtype=float32))\n",
      "('Other scores will be ', array([[ 182.18225098],\n",
      "       [ 175.23745728]], dtype=float32))\n"
     ]
    }
   ],
   "source": [
    "# Ask my score\n",
    "print(\"Your score will be \", sess.run(hypothesis, feed_dict={X: [[100, 70, 101]]}))\n",
    "print(\"Other scores will be \", sess.run(hypothesis, feed_dict={X: [[60,70,110], [90, 100, 80]]}))"
   ]
  }
 ],
 "metadata": {
  "kernelspec": {
   "display_name": "Python 2",
   "language": "python",
   "name": "python2"
  },
  "language_info": {
   "codemirror_mode": {
    "name": "ipython",
    "version": 2
   },
   "file_extension": ".py",
   "mimetype": "text/x-python",
   "name": "python",
   "nbconvert_exporter": "python",
   "pygments_lexer": "ipython2",
   "version": "2.7.12"
  }
 },
 "nbformat": 4,
 "nbformat_minor": 2
}
