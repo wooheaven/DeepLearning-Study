{
 "cells": [
  {
   "cell_type": "code",
   "execution_count": 1,
   "metadata": {
    "collapsed": true
   },
   "outputs": [],
   "source": [
    "import numpy as np"
   ]
  },
  {
   "cell_type": "code",
   "execution_count": 2,
   "metadata": {
    "collapsed": true
   },
   "outputs": [],
   "source": [
    "xy = np.loadtxt('01_KP.csv', delimiter=',', dtype=np.float32)\n",
    "#xy"
   ]
  },
  {
   "cell_type": "code",
   "execution_count": 3,
   "metadata": {
    "collapsed": true
   },
   "outputs": [],
   "source": [
    "x_data = xy[:,0:-1]\n",
    "#x_data"
   ]
  },
  {
   "cell_type": "code",
   "execution_count": 4,
   "metadata": {
    "collapsed": true
   },
   "outputs": [],
   "source": [
    "y_data = xy[:,[-1]]\n",
    "#y_data"
   ]
  },
  {
   "cell_type": "code",
   "execution_count": 5,
   "metadata": {
    "collapsed": true
   },
   "outputs": [],
   "source": [
    "# Make sure the shape and data are OK\n",
    "#print(x_data.shape, x_data, len(x_data)) # 25명의 선수가 15개의 능력치를 갖고 있음\n",
    "#print(y_data.shape, y_data, len(y_data)) # 25명의 선수가 1번의 경기결과를 갖음"
   ]
  },
  {
   "cell_type": "code",
   "execution_count": 6,
   "metadata": {
    "collapsed": true
   },
   "outputs": [],
   "source": [
    "import tensorflow as tf"
   ]
  },
  {
   "cell_type": "code",
   "execution_count": 7,
   "metadata": {
    "collapsed": true
   },
   "outputs": [],
   "source": [
    "# for reproducibility\n",
    "tf.set_random_seed(777)"
   ]
  },
  {
   "cell_type": "code",
   "execution_count": 8,
   "metadata": {
    "collapsed": true
   },
   "outputs": [],
   "source": [
    "# placeholders for a tensor that will be always fed.\n",
    "X = tf.placeholder(tf.float32, shape=[None, 15])\n",
    "Y = tf.placeholder(tf.float32, shape=[None, 1])"
   ]
  },
  {
   "cell_type": "code",
   "execution_count": 9,
   "metadata": {
    "collapsed": true
   },
   "outputs": [],
   "source": [
    "W = tf.Variable(tf.random_normal([15,1]), name='weight') \n",
    "b = tf.Variable(tf.random_normal([1]), name='bias')"
   ]
  },
  {
   "cell_type": "code",
   "execution_count": 10,
   "metadata": {
    "collapsed": true
   },
   "outputs": [],
   "source": [
    "# Hypothesis\n",
    "hypothesis = tf.matmul(X, W) + b # 행렬곱에서 행과 열의 갯수는 (25,15) * (15,1) = (25,1) 이다."
   ]
  },
  {
   "cell_type": "code",
   "execution_count": 11,
   "metadata": {
    "collapsed": true
   },
   "outputs": [],
   "source": [
    "# Simplified cost/loss function\n",
    "cost = tf.reduce_mean(tf.square(hypothesis - Y))"
   ]
  },
  {
   "cell_type": "code",
   "execution_count": 12,
   "metadata": {
    "collapsed": true
   },
   "outputs": [],
   "source": [
    "# Minimize\n",
    "optimizer = tf.train.GradientDescentOptimizer(learning_rate=1e-13)\n",
    "train = optimizer.minimize(cost)"
   ]
  },
  {
   "cell_type": "code",
   "execution_count": 13,
   "metadata": {
    "collapsed": true
   },
   "outputs": [],
   "source": [
    "# Launch the graph in a session\n",
    "sess = tf.Session()"
   ]
  },
  {
   "cell_type": "code",
   "execution_count": 14,
   "metadata": {
    "collapsed": true
   },
   "outputs": [],
   "source": [
    "# Initializes global variables in the graph\n",
    "sess.run(tf.global_variables_initializer())"
   ]
  },
  {
   "cell_type": "code",
   "execution_count": 15,
   "metadata": {},
   "outputs": [
    {
     "name": "stdout",
     "output_type": "stream",
     "text": [
      "0\t2.10019e+12\n",
      "5000000\t55452.0\n",
      "10000000\t6251.52\n",
      "15000000\t3178.84\n",
      "20000000\t2989.77\n",
      "25000000\t2989.77\n",
      "30000000\t2989.77\n",
      "35000000\t2989.77\n",
      "40000000\t2989.77\n",
      "45000000\t2989.77\n",
      "50000000\t2989.77\n",
      "55000000\t2989.77\n",
      "60000000\t2989.77\n",
      "65000000\t2989.77\n",
      "70000000\t2989.77\n",
      "75000000\t2989.77\n",
      "80000000\t2989.77\n",
      "85000000\t2989.77\n",
      "90000000\t2989.77\n",
      "95000000\t2989.77\n",
      "100000000\t2989.77\n",
      "105000000\t2989.77\n",
      "110000000\t2989.77\n",
      "115000000\t2989.77\n",
      "120000000\t2989.77\n",
      "125000000\t2989.77\n",
      "130000000\t2989.77\n",
      "135000000\t2989.77\n",
      "140000000\t2989.77\n",
      "145000000\t2989.77\n",
      "150000000\t2989.77\n",
      "[[ 423.19509888]\n",
      " [ 243.03749084]\n",
      " [ 410.62942505]\n",
      " [ 244.54579163]\n",
      " [ 449.89468384]\n",
      " [ 281.72058105]\n",
      " [ 430.23001099]\n",
      " [ 283.2288208 ]\n",
      " [ 475.08828735]\n",
      " [ 320.48065186]\n",
      " [ 449.00698853]\n",
      " [ 321.9888916 ]\n",
      " [ 499.9289856 ]\n",
      " [ 385.4831543 ]\n",
      " [ 477.22335815]\n",
      " [ 385.4831543 ]\n",
      " [ 286.22994995]\n",
      " [ 286.22994995]\n",
      " [ 317.08163452]\n",
      " [ 317.08163452]\n",
      " [ 282.89938354]\n",
      " [ 315.02346802]\n",
      " [ 279.56881714]\n",
      " [ 315.02346802]\n",
      " [ 279.56881714]]\n"
     ]
    }
   ],
   "source": [
    "# Set up feed_dict variables inside the loop\n",
    "from math import pow\n",
    "last = int(15 * pow(10.0, 7))\n",
    "itr = int(5 * pow(10.0, 6))\n",
    "for step in range(last + 1):\n",
    "    cost_val, hy_val, _ = sess.run([cost, hypothesis, train], feed_dict={X: x_data, Y: y_data})\n",
    "    if step % itr == 0:\n",
    "        print(str(step) + '\\t' + str(cost_val))\n",
    "    if step == last:\n",
    "        print(str(hy_val))"
   ]
  },
  {
   "cell_type": "code",
   "execution_count": 16,
   "metadata": {},
   "outputs": [
    {
     "name": "stdout",
     "output_type": "stream",
     "text": [
      "('Your score will be ', array([[ 423.19509888]], dtype=float32))\n",
      "('Your score will be ', array([[ 243.03749084]], dtype=float32))\n"
     ]
    }
   ],
   "source": [
    "# Ask my score\n",
    "print(\"Your score will be \", sess.run(hypothesis, feed_dict={X: [[7600,4,3,7,7,20,8,3,1,1,1,1,6,877,1970000]]})) # 500\n",
    "print(\"Your score will be \", sess.run(hypothesis, feed_dict={X: [[3070,4,1,6,4,3,7,3,2,2,1,1,13,711,1428000]]})) # 250"
   ]
  },
  {
   "cell_type": "code",
   "execution_count": 17,
   "metadata": {},
   "outputs": [
    {
     "data": {
      "text/plain": [
       "<tensorflow.python.client.session.Session at 0x7fb871725fd0>"
      ]
     },
     "execution_count": 17,
     "metadata": {},
     "output_type": "execute_result"
    }
   ],
   "source": [
    "sess.close()\n",
    "sess"
   ]
  }
 ],
 "metadata": {
  "kernelspec": {
   "display_name": "Python 2",
   "language": "python",
   "name": "python2"
  },
  "language_info": {
   "codemirror_mode": {
    "name": "ipython",
    "version": 2
   },
   "file_extension": ".py",
   "mimetype": "text/x-python",
   "name": "python",
   "nbconvert_exporter": "python",
   "pygments_lexer": "ipython2",
   "version": "2.7.12"
  }
 },
 "nbformat": 4,
 "nbformat_minor": 2
}
